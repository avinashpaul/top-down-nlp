{
 "cells": [
  {
   "cell_type": "code",
   "execution_count": 97,
   "id": "c1aeeaac",
   "metadata": {},
   "outputs": [],
   "source": [
    "#! pip install nltk\n",
    "#import nltk\n",
    "#nltk.download('punkt')\n",
    "#! pip install pandas\n",
    "#nltk.download('wordnet')\n",
    "#! pip install scikit-learn\n",
    "#! pip install tweet-preprocessor\n",
    "#! pip install transformers\n",
    "#! pip install evaluate"
   ]
  },
  {
   "cell_type": "markdown",
   "id": "6aec75c4",
   "metadata": {},
   "source": [
    "Understand The essence of NLP"
   ]
  },
  {
   "cell_type": "markdown",
   "id": "fd8201c2",
   "metadata": {},
   "source": [
    "### Introduction to NLP\n",
    "### Areas of application\n",
    "1. Social media\n",
    "2. Banking\n",
    "4. Health care\n",
    "5. Insurance\n",
    "6. Defance\n",
    "7. Cyber Security\n"
   ]
  },
  {
   "attachments": {},
   "cell_type": "markdown",
   "id": "39d7befc",
   "metadata": {},
   "source": [
    "<font color='red'> My goal here is to make you understand the evolution of NLP by using real-world use cases and NLP is a very broad subject it involves rules, equations, derivatives, formulas my goal is to show you how linguists and computer scientists thought through to solve language and kindle your curiosity to think on how you would solve it and let you explorer deeply in the space that interests you let's pick up a use case sentiment analysis and ponder on how we would have solved it.\n",
    "<br>\n",
    "Sentiment: refers to the emotional tone or attitude conveyed by a piece of text or speech. It can be expressed through the use of words, phrases, and other linguistic cues that indicate the author or speaker's subjective feelings or opinions about a particular topic, object, or situation.\n",
    "<br>\n",
    "Analysis: use of computational algorithms and machine learning techniques to identify and extract subjective information from text. and determine the emotional tone or attitude expressed in a piece of text.\n",
    "<br>\n",
    "In this tutorial, we will solve the use cases in English I encourage you to read through text encoding if you are trying to do NLP in other languages. Armed with basic knowledge of English like noun, verb, adjectives positive words negative words let's try solving the use case </font>"
   ]
  },
  {
   "cell_type": "code",
   "execution_count": null,
   "id": "68bf0f17",
   "metadata": {},
   "outputs": [],
   "source": []
  },
  {
   "cell_type": "code",
   "execution_count": 2,
   "id": "32358363",
   "metadata": {},
   "outputs": [],
   "source": [
    "sample = [\n",
    "    \"I am not happy\",\n",
    "    \"I am very happy\",\n",
    "    \"I am happpy\",\n",
    "    \"I am sad\",\n",
    "    \"this is a cheap phone\",\n",
    "    \"This movie is not great\",\n",
    "    \"This great movie is not to be missed\"\n",
    "]"
   ]
  },
  {
   "cell_type": "code",
   "execution_count": 5,
   "id": "e6f9bf16",
   "metadata": {},
   "outputs": [],
   "source": [
    "#rule 1 : if there is a positive word the sentiment is positive\n",
    "#rule 2 : if there is a negitive word the sentiment is negitive\n",
    "\n",
    "positive_dictionary = [\"happy\", \"great\"]\n",
    "negative_dictionary = [\"sad\", \"cheap\"]"
   ]
  },
  {
   "cell_type": "code",
   "execution_count": 6,
   "id": "227ae74d",
   "metadata": {},
   "outputs": [
    {
     "name": "stdout",
     "output_type": "stream",
     "text": [
      "I am not happy  :: positive\n",
      "I am very happy  :: positive\n",
      "I am happpy  :: nuteral\n",
      "I am sad  :: negative\n",
      "this is a cheap phone  :: negative\n",
      "This movie is not great  :: positive\n",
      "This great movie is not to be missed  :: positive\n"
     ]
    }
   ],
   "source": [
    "for sentence in sample:\n",
    "    words = sentence.lower().split()\n",
    "    if any(word in positive_dictionary for word in words):\n",
    "        print(sentence, \" :: positive\")\n",
    "    elif any(word in negative_dictionary for word in words):\n",
    "        print(sentence, \" :: negative\")\n",
    "    else:\n",
    "        print(sentence, \" :: nuteral\")\n"
   ]
  },
  {
   "cell_type": "code",
   "execution_count": null,
   "id": "633a157d",
   "metadata": {},
   "outputs": [],
   "source": [
    "# we got 4 right and 3 wrong , lets think of more rules"
   ]
  },
  {
   "cell_type": "code",
   "execution_count": 7,
   "id": "6ee4feb9",
   "metadata": {},
   "outputs": [],
   "source": [
    "#rule 3 : If there is a negation word with positive word its negitive\n",
    "#rule 4 : If there is a negation word with negitive word its nuteral"
   ]
  },
  {
   "cell_type": "code",
   "execution_count": 13,
   "id": "4e19202e",
   "metadata": {},
   "outputs": [],
   "source": [
    "negation_dictionary = [\"not\"]\n",
    "\n",
    "def print_sentiment(sample):\n",
    "    for sentence in sample:\n",
    "        words = sentence.lower().split()\n",
    "        if any(word in positive_dictionary for word in words):\n",
    "            if any(word in negation_dictionary for word in words):\n",
    "                print(sentence, \" :: negitive\")\n",
    "            else:\n",
    "                print(sentence, \" :: positive\")\n",
    "        elif any(word in negative_dictionary for word in words):\n",
    "            if any(word in negation_dictionary for word in words):\n",
    "                print(sentence, \" :: nuteral\")\n",
    "            else:\n",
    "                print(sentence, \" :: negitive\")\n",
    "        else:\n",
    "            print(sentence, \" :: nuteral\")"
   ]
  },
  {
   "cell_type": "code",
   "execution_count": 14,
   "id": "939e4127",
   "metadata": {},
   "outputs": [
    {
     "name": "stdout",
     "output_type": "stream",
     "text": [
      "I am not happy  :: negitive\n",
      "I am very happy  :: positive\n",
      "I am happpy  :: nuteral\n",
      "I am sad  :: negitive\n",
      "this is a cheap phone  :: negitive\n",
      "This movie is not great  :: negitive\n",
      "This great movie is not to be missed  :: negitive\n"
     ]
    }
   ],
   "source": [
    "print_sentiment(sample)"
   ]
  },
  {
   "cell_type": "code",
   "execution_count": 15,
   "id": "8297b9c8",
   "metadata": {},
   "outputs": [],
   "source": [
    "# we got 5 right and 2 wrong, we are already seeing how we can build rules and how soon it can become complicated\n",
    "# some of the rules we can thin through is\n",
    "# Intensifiers - words like \"very\" will intensify the emotion\n",
    "# Contextual clues - Lest assume we are searching for luxury hotels in this context the word \"cheap\" will be negitive \n",
    "# but when we are searching for budget stays the word \"cheap\" might be positive \n",
    "# Word order - the word order is important in the last example.\n",
    "\n",
    "# now lets run the same function on a different sample\n",
    "sample2 = [\n",
    "    \"I am not joyful\",\n",
    "    \"I am very joyful\",\n",
    "    \"I am happpy\",\n",
    "    \"I am unhappy\",\n",
    "    \"this is a inexpensive phone\",\n",
    "    \"This movie is not exceptional !!\",\n",
    "    \"This exceptional movie is not to be missed\"\n",
    "]"
   ]
  },
  {
   "cell_type": "code",
   "execution_count": 16,
   "id": "5df13742",
   "metadata": {},
   "outputs": [
    {
     "name": "stdout",
     "output_type": "stream",
     "text": [
      "I am not joyful  :: nuteral\n",
      "I am very joyful  :: nuteral\n",
      "I am happpy  :: nuteral\n",
      "I am unhappy  :: nuteral\n",
      "this is a inexpensive phone  :: nuteral\n",
      "This movie is not exceptional  :: nuteral\n",
      "This exceptional movie is not to be missed  :: nuteral\n"
     ]
    }
   ],
   "source": [
    "print_sentiment(sample2)"
   ]
  },
  {
   "cell_type": "markdown",
   "id": "3a2a1d85",
   "metadata": {},
   "source": [
    "### ERA 1"
   ]
  },
  {
   "cell_type": "markdown",
   "id": "6a7a5810",
   "metadata": {},
   "source": [
    "<font color='red'>\n",
    "we got everything wrong , lets ponder on what we learn from this exercise\n",
    "<br>\n",
    "\n",
    "1. We need some kind of dictionary to look up positive words and negitive words.\n",
    "2. We need some kind of dictionary to look up synonymes.\n",
    "3. We need to correct spellings.\n",
    "4. writing rules will get complex over time.\n",
    "5. context is never accounted for.\n",
    "6. handle punctuation, plurals etc.\n",
    "7. Split words in a sentence.\n",
    "\n",
    "Linguists, Researchers, computer scientists every one whoud have faced this kind of situation so they thought of\n",
    "approching the problem one step at a time , first solving for words, then phrases, then understanding the syntax of english language, then understand the meaning of each word in the given sentence.\n",
    "\n",
    "1. Lexical Processing\n",
    "2. Syntactic Processing\n",
    "3. Semantic Processing\n",
    "    \n",
    "Each step solves some specific NLP use cases and its limitations pushed researchers to come up with new \n",
    "paradigme of solving those problems and contributed to evolution of NLP\n",
    "\n",
    "I encourage every one to read about Text Encoding, it is very viatl when your are processing non english language\n",
    "\n",
    "https://docs.python.org/3/howto/unicode.html <br>\n",
    "https://mothereff.in/utf-8\n",
    "</font>"
   ]
  },
  {
   "cell_type": "markdown",
   "id": "71f7846e",
   "metadata": {},
   "source": [
    "### What Is Lexical Processing ?\n",
    "\n",
    "Lexical processing refers to the mental processes involved in the recognition, interpretation, and use of words and vocabulary. It involves understanding the meaning, pronunciation, and syntactic function of individual words in context, as well as accessing and retrieving them from memory. Lexical processing is a critical aspect of language comprehension and production, as it enables us to understand and produce language fluently and efficiently. It is an essential component of various language-related tasks, such as reading, writing, speaking, and listening."
   ]
  },
  {
   "cell_type": "markdown",
   "id": "89e0c440",
   "metadata": {},
   "source": [
    "<font color='red'>Here the focus is on word level understanding\n",
    "Some of the applications might be span detector , when you find words like lottry , prize , luckey draw it can be\n",
    "classified as spam , another application might be #tag trend analysis.<br><br>\n",
    "Some of the early forms of lexical processing is using Regular expressions. Regular expressions, which are also known as regex, are a highly effective set of programming tools utilized for various tasks including extracting features from text, manipulating strings, and replacing stringsRegex to find patters in text like dates, emails IP adress, phone numbers, PIN codes etc.\n",
    "</font>"
   ]
  },
  {
   "cell_type": "markdown",
   "id": "1d7ec36e",
   "metadata": {},
   "source": [
    "Understanding Regex :<br>\n",
    "https://docs.python.org/2/library/re.html#re.RegexObject <br>\n",
    "https://regex101.com/"
   ]
  },
  {
   "cell_type": "markdown",
   "id": "28f30967",
   "metadata": {},
   "source": [
    "some of the basic steps in preprocessing text is\n",
    "\n",
    "1. Tokenisation\n",
    "2. Stop words removal\n",
    "3. Stemming\n",
    "4. Lemmatization"
   ]
  },
  {
   "cell_type": "code",
   "execution_count": null,
   "id": "4132a022",
   "metadata": {},
   "outputs": [],
   "source": []
  },
  {
   "cell_type": "markdown",
   "id": "bb8443a9",
   "metadata": {},
   "source": [
    "#### Tokenisation\n",
    " It is a proces to break the text into smaller unites it might be characters, words , sentences ,paragraph this depends on the down stream application. Each unit can be used as a feature. There are various types of pre built tokanizers available , we need to choose based on problem at hand."
   ]
  },
  {
   "cell_type": "code",
   "execution_count": 19,
   "id": "80c8ed2c",
   "metadata": {},
   "outputs": [
    {
     "name": "stdout",
     "output_type": "stream",
     "text": [
      "I have a doctors appointment at 5 o'clock. It will take me 2hrs to reach due to traffic,he'll soon leave , dont't know what to do.\n"
     ]
    }
   ],
   "source": [
    "sentence = \"I have a doctors appointment at 5 o'clock. It will take me 2hrs to reach due to traffic,\\\n",
    "he'll soon leave , dont't know what to do.\"\n",
    "print(sentence)"
   ]
  },
  {
   "cell_type": "code",
   "execution_count": 20,
   "id": "1fe10a54",
   "metadata": {},
   "outputs": [
    {
     "name": "stdout",
     "output_type": "stream",
     "text": [
      "['I', 'have', 'a', 'doctors', 'appointment', 'at', '5', \"o'clock.\", 'It', 'will', 'take', 'me', '2hrs', 'to', 'reach', 'due', 'to', \"traffic,he'll\", 'soon', 'leave', ',', \"dont't\", 'know', 'what', 'to', 'do.']\n"
     ]
    }
   ],
   "source": [
    "#pyhton tokanizer\n",
    "print(document.split())"
   ]
  },
  {
   "cell_type": "code",
   "execution_count": 26,
   "id": "4b8dc7b6",
   "metadata": {},
   "outputs": [
    {
     "name": "stdout",
     "output_type": "stream",
     "text": [
      "['I', 'have', 'a', 'doctors', 'appointment', 'at', '5', \"o'clock\", '.', 'It', 'will', 'take', 'me', '2hrs', 'to', 'reach', 'due', 'to', 'traffic', ',', 'he', \"'ll\", 'soon', 'leave', ',', \"dont't\", 'know', 'what', 'to', 'do', '.']\n"
     ]
    }
   ],
   "source": [
    "# Tokenising using nltk word tokenise\n",
    "from nltk.tokenize import word_tokenize\n",
    "words = word_tokenize(document)\n",
    "print(words)"
   ]
  },
  {
   "cell_type": "code",
   "execution_count": 28,
   "id": "61abe7ca",
   "metadata": {},
   "outputs": [
    {
     "name": "stdout",
     "output_type": "stream",
     "text": [
      "[\"I have a doctors appointment at 5 o'clock.\", \"It will take me 2hrs to reach due to traffic,he'll soon leave , dont't know what to do.\"]\n"
     ]
    }
   ],
   "source": [
    "# Tokenising sentence using sent_tokenize . it splits text in different sentence using prtiod (.)\n",
    "from nltk.tokenize import sent_tokenize\n",
    "sentences = sent_tokenize(document)\n",
    "print(sentences)"
   ]
  },
  {
   "cell_type": "markdown",
   "id": "30fae768",
   "metadata": {},
   "source": [
    "### Tweet tokanizer\n",
    "A tweet is a short message or post that is published on the social media platform Twitter. It is limited to a maximum of 280 characters, which includes letters, numbers, symbols, and spaces. Users can share their thoughts, opinions, news, images, videos, and links to other content through tweets.\n",
    "Due to this character limitation users use sentences that dont adhear to english grammer has emojis and other complex special characters, word tokanizers cannot handel this well."
   ]
  },
  {
   "cell_type": "code",
   "execution_count": 30,
   "id": "0d17fb35",
   "metadata": {},
   "outputs": [],
   "source": [
    "tweet = \"i recently watched this film called kantara:). \\\n",
    "i totally loved it 😍. it was gr8 <3. #kantara #thrill 😎\""
   ]
  },
  {
   "cell_type": "code",
   "execution_count": 31,
   "id": "7b1de812",
   "metadata": {},
   "outputs": [
    {
     "name": "stdout",
     "output_type": "stream",
     "text": [
      "['i', 'recently', 'watched', 'this', 'film', 'called', 'kantara', ':', ')', '.', 'i', 'totally', 'loved', 'it', '😍', '.', 'it', 'was', 'gr8', '<', '3', '.', '#', 'kantara', '#', 'thrill', '😎']\n"
     ]
    }
   ],
   "source": [
    "print(word_tokenize(tweet))"
   ]
  },
  {
   "cell_type": "markdown",
   "id": "9c078a21",
   "metadata": {},
   "source": [
    "The process of tokenization separates the emoji '<3' into '<' and '3', which is not desirable. Emojis hold significant value in areas such as sentiment analysis, where a happy or sad face alone can be a reliable predictor of sentiment. Additionally, hashtags are also split into two tokens during tokenization. Hashtags are used for searching specific topics or photos on social media platforms like Instagram and Facebook, where it's important to preserve the original hashtag as it is."
   ]
  },
  {
   "cell_type": "code",
   "execution_count": 32,
   "id": "37c8097e",
   "metadata": {},
   "outputs": [
    {
     "data": {
      "text/plain": [
       "['i',\n",
       " 'recently',\n",
       " 'watched',\n",
       " 'this',\n",
       " 'film',\n",
       " 'called',\n",
       " 'kantara',\n",
       " ':)',\n",
       " '.',\n",
       " 'i',\n",
       " 'totally',\n",
       " 'loved',\n",
       " 'it',\n",
       " '😍',\n",
       " '.',\n",
       " 'it',\n",
       " 'was',\n",
       " 'gr8',\n",
       " '<3',\n",
       " '.',\n",
       " '#kantara',\n",
       " '#thrill',\n",
       " '😎']"
      ]
     },
     "execution_count": 32,
     "metadata": {},
     "output_type": "execute_result"
    }
   ],
   "source": [
    "from nltk.tokenize import TweetTokenizer\n",
    "tknzr = TweetTokenizer()\n",
    "tknzr.tokenize(tweet)"
   ]
  },
  {
   "cell_type": "markdown",
   "id": "3fc9c40b",
   "metadata": {},
   "source": [
    "It is evident that the system effectively manages both emojis and hashtags."
   ]
  },
  {
   "cell_type": "markdown",
   "id": "287d8498",
   "metadata": {},
   "source": [
    "#### StopWords\n",
    "Stopwords refer to words that have the highest frequencies in a given text and are generally considered of minimal importance."
   ]
  },
  {
   "attachments": {
    "image.png": {
     "image/png": "[encoded data removed]"
    }
   },
   "cell_type": "markdown",
   "id": "78d04a73",
   "metadata": {},
   "source": [
    "![image.png](attachment:image.png)"
   ]
  },
  {
   "cell_type": "markdown",
   "id": "e4c2f3e4",
   "metadata": {},
   "source": [
    "From the above graph we can see there are three reagions in which words are present :\n",
    "\n",
    "1. Highly frequent reagion, called stop words, such as ‘is’, ‘an’, ‘the’.\n",
    "2. Significant reagion, which are important words to understand the text.\n",
    "3. Rarely reagion, rare words which are less important than significant words.\n",
    "\n",
    "Why Stop words are removed ?\n",
    "1. In applications like spam detection or search engines, stopwords are generally uninformative and hence are removed from the dataset. \n",
    "2. This leads to a reduction in the size of the data due to the high frequency of stop words.\n",
    "3. This reduction results in faster computation on text data and the advantage of dealing with fewer features.\n",
    "\n",
    "It is not right remove stop words always, it depends upon the the problem at hand expecally when you are building\n",
    "1. Building a POS (Part of speech Tagging)\n",
    "2. NER (named entity recognition)\n",
    "3. Grammer correction"
   ]
  },
  {
   "cell_type": "markdown",
   "id": "2f45f031",
   "metadata": {},
   "source": [
    "### Stemming and Lemmatization"
   ]
  },
  {
   "cell_type": "markdown",
   "id": "b14e2465",
   "metadata": {},
   "source": [
    "Stemming is a process in natural language processing (NLP) that involves reducing inflected or derived words to their base or root form. The root form is also known as the \"stem\" of the word. The purpose of stemming is to normalize or standardize text data so that words with the same root can be grouped together, regardless of their inflections or derivations.\n",
    "\n",
    "For example, the words \"run,\" \"runs,\" \"running,\" and \"runner\" can all be reduced to their root form \"run\" through stemming. Similarly, the words \"play,\" \"played,\" \"plays,\" and \"playing\" can be reduced to their root form \"play.\"\n",
    "\n",
    "Stemming algorithms typically use a set of heuristics or rules to identify the stem of a word. One common stemming algorithm is the __Porter stemming__ algorithm, which is a rule-based algorithm that uses a series of rules to remove suffixes from words. Another popular stemming algorithm is the __Snowball stemming__ algorithm, which is an extension of the Porter stemming algorithm and can be customized for different languages.\n",
    "\n",
    "http://snowball.tartarus.org/algorithms/porter/stemmer.html\n",
    "http://snowball.tartarus.org/\n",
    "\n",
    "\n",
    "Lemmatization is another text normalization technique used in natural language processing (NLP). Like stemming, its goal is to reduce inflected or derived words to their base or root form. However, unlike stemming, lemmatization considers the context and part of speech of a word in order to determine its root form.\n",
    "\n",
    "For example, the word \"ran\" can be reduced to its root form \"run\" through stemming, but it can also be reduced to its root form \"run\" through lemmatization, which takes into account that \"ran\" is the past tense of the verb \"run.\" Similarly, the word \"better\" can be reduced to its root form \"good\" through lemmatization, which recognizes that \"better\" is the comparative form of the adjective \"good.\"\n",
    "\n",
    "Lemmatization algorithms typically use a dictionary or database containing the base forms of words, along with their __parts of speech__. The algorithm then analyzes the context of the word in the text to determine the appropriate base form.\n",
    "\n",
    "Lemmatization is considered to be more accurate than stemming because it takes into account the context and part of speech of a word, which can help to avoid errors or incorrect reductions. However, it can also be more computationally expensive than stemming, and may require more processing power and resources."
   ]
  },
  {
   "cell_type": "markdown",
   "id": "a71aaf53",
   "metadata": {},
   "source": [
    "Lets look at the differences between two different stemmers"
   ]
  },
  {
   "cell_type": "code",
   "execution_count": 33,
   "id": "5e8fd597",
   "metadata": {},
   "outputs": [],
   "source": [
    "text = \"When the mail got successfully to Dover, in the course of the forenoon, the head drawer \\\n",
    "at the Royal George Hotel opened the coach-door as his custom was. He did it with some flourish of \\\n",
    "ceremony, for a mail journey from London in winter was an achievement to congratulate an adventurous traveller upon.\""
   ]
  },
  {
   "cell_type": "code",
   "execution_count": 35,
   "id": "ff0ae594",
   "metadata": {},
   "outputs": [],
   "source": [
    "# import libraries\n",
    "import pandas as pd\n",
    "from nltk.tokenize import word_tokenize\n",
    "from nltk.stem.porter import PorterStemmer\n",
    "from nltk.stem.snowball import SnowballStemmer"
   ]
  },
  {
   "cell_type": "code",
   "execution_count": 36,
   "id": "166df44e",
   "metadata": {},
   "outputs": [
    {
     "name": "stdout",
     "output_type": "stream",
     "text": [
      "['when', 'the', 'mail', 'got', 'successfully', 'to', 'dover', ',', 'in', 'the', 'course', 'of', 'the', 'forenoon', ',', 'the', 'head', 'drawer', 'at', 'the', 'royal', 'george', 'hotel', 'opened', 'the', 'coach-door', 'as', 'his', 'custom', 'was', '.', 'he', 'did', 'it', 'with', 'some', 'flourish', 'of', '\\\\', 'ceremony', ',', 'for', 'a', 'mail', 'journey', 'from', 'london', 'in', 'winter', 'was', 'an', 'achievement', 'to', 'congratulate', 'an', 'adventurous', 'traveller', 'upon', '.']\n"
     ]
    }
   ],
   "source": [
    "#convert text to tokens\n",
    "tokens = word_tokenize(text.lower())\n",
    "print(tokens)"
   ]
  },
  {
   "cell_type": "code",
   "execution_count": 37,
   "id": "953da3d4",
   "metadata": {},
   "outputs": [],
   "source": [
    "stemmer = PorterStemmer()\n",
    "porter_stemmed = [stemmer.stem(token) for token in tokens]\n",
    "# snowball stemmer\n",
    "stemmer = SnowballStemmer(\"english\")\n",
    "snowball_stemmed = [stemmer.stem(token) for token in tokens]"
   ]
  },
  {
   "cell_type": "code",
   "execution_count": 38,
   "id": "f07f59f2",
   "metadata": {},
   "outputs": [
    {
     "data": {
      "text/html": [
       "<div>\n",
       "<style scoped>\n",
       "    .dataframe tbody tr th:only-of-type {\n",
       "        vertical-align: middle;\n",
       "    }\n",
       "\n",
       "    .dataframe tbody tr th {\n",
       "        vertical-align: top;\n",
       "    }\n",
       "\n",
       "    .dataframe thead th {\n",
       "        text-align: right;\n",
       "    }\n",
       "</style>\n",
       "<table border=\"1\" class=\"dataframe\">\n",
       "  <thead>\n",
       "    <tr style=\"text-align: right;\">\n",
       "      <th></th>\n",
       "      <th>token</th>\n",
       "      <th>porter_stemmed</th>\n",
       "      <th>snowball_stemmed</th>\n",
       "    </tr>\n",
       "  </thead>\n",
       "  <tbody>\n",
       "    <tr>\n",
       "      <th>4</th>\n",
       "      <td>successfully</td>\n",
       "      <td>success</td>\n",
       "      <td>success</td>\n",
       "    </tr>\n",
       "    <tr>\n",
       "      <th>10</th>\n",
       "      <td>course</td>\n",
       "      <td>cours</td>\n",
       "      <td>cours</td>\n",
       "    </tr>\n",
       "    <tr>\n",
       "      <th>21</th>\n",
       "      <td>george</td>\n",
       "      <td>georg</td>\n",
       "      <td>georg</td>\n",
       "    </tr>\n",
       "    <tr>\n",
       "      <th>23</th>\n",
       "      <td>opened</td>\n",
       "      <td>open</td>\n",
       "      <td>open</td>\n",
       "    </tr>\n",
       "    <tr>\n",
       "      <th>27</th>\n",
       "      <td>his</td>\n",
       "      <td>hi</td>\n",
       "      <td>his</td>\n",
       "    </tr>\n",
       "    <tr>\n",
       "      <th>29</th>\n",
       "      <td>was</td>\n",
       "      <td>wa</td>\n",
       "      <td>was</td>\n",
       "    </tr>\n",
       "    <tr>\n",
       "      <th>39</th>\n",
       "      <td>ceremony</td>\n",
       "      <td>ceremoni</td>\n",
       "      <td>ceremoni</td>\n",
       "    </tr>\n",
       "    <tr>\n",
       "      <th>49</th>\n",
       "      <td>was</td>\n",
       "      <td>wa</td>\n",
       "      <td>was</td>\n",
       "    </tr>\n",
       "    <tr>\n",
       "      <th>51</th>\n",
       "      <td>achievement</td>\n",
       "      <td>achiev</td>\n",
       "      <td>achiev</td>\n",
       "    </tr>\n",
       "    <tr>\n",
       "      <th>53</th>\n",
       "      <td>congratulate</td>\n",
       "      <td>congratul</td>\n",
       "      <td>congratul</td>\n",
       "    </tr>\n",
       "    <tr>\n",
       "      <th>55</th>\n",
       "      <td>adventurous</td>\n",
       "      <td>adventur</td>\n",
       "      <td>adventur</td>\n",
       "    </tr>\n",
       "    <tr>\n",
       "      <th>56</th>\n",
       "      <td>traveller</td>\n",
       "      <td>travel</td>\n",
       "      <td>travel</td>\n",
       "    </tr>\n",
       "  </tbody>\n",
       "</table>\n",
       "</div>"
      ],
      "text/plain": [
       "           token porter_stemmed snowball_stemmed\n",
       "4   successfully        success          success\n",
       "10        course          cours            cours\n",
       "21        george          georg            georg\n",
       "23        opened           open             open\n",
       "27           his             hi              his\n",
       "29           was             wa              was\n",
       "39      ceremony       ceremoni         ceremoni\n",
       "49           was             wa              was\n",
       "51   achievement         achiev           achiev\n",
       "53  congratulate      congratul        congratul\n",
       "55   adventurous       adventur         adventur\n",
       "56     traveller         travel           travel"
      ]
     },
     "execution_count": 38,
     "metadata": {},
     "output_type": "execute_result"
    }
   ],
   "source": [
    "df = pd.DataFrame({'token': tokens, 'porter_stemmed': porter_stemmed, 'snowball_stemmed': snowball_stemmed})\n",
    "df = df[['token', 'porter_stemmed', 'snowball_stemmed']]\n",
    "df[(df.token != df.porter_stemmed) | (df.token != df.snowball_stemmed)]"
   ]
  },
  {
   "cell_type": "markdown",
   "id": "53e781b7",
   "metadata": {},
   "source": [
    "From the above table we can see how each stemmer has performed and its output , i would encourage you to explore more."
   ]
  },
  {
   "cell_type": "code",
   "execution_count": 41,
   "id": "b4cd20e7",
   "metadata": {},
   "outputs": [],
   "source": [
    "### import necessary libraries\n",
    "from nltk.stem import WordNetLemmatizer\n",
    "from nltk.tokenize import word_tokenize\n",
    "wordnet_lemmatizer = WordNetLemmatizer()\n",
    "lemmatized = [wordnet_lemmatizer.lemmatize(token) for token in tokens]"
   ]
  },
  {
   "cell_type": "code",
   "execution_count": 42,
   "id": "ef5ab51a",
   "metadata": {},
   "outputs": [
    {
     "data": {
      "text/html": [
       "<div>\n",
       "<style scoped>\n",
       "    .dataframe tbody tr th:only-of-type {\n",
       "        vertical-align: middle;\n",
       "    }\n",
       "\n",
       "    .dataframe tbody tr th {\n",
       "        vertical-align: top;\n",
       "    }\n",
       "\n",
       "    .dataframe thead th {\n",
       "        text-align: right;\n",
       "    }\n",
       "</style>\n",
       "<table border=\"1\" class=\"dataframe\">\n",
       "  <thead>\n",
       "    <tr style=\"text-align: right;\">\n",
       "      <th></th>\n",
       "      <th>token</th>\n",
       "      <th>stemmed</th>\n",
       "      <th>lemmatized</th>\n",
       "    </tr>\n",
       "  </thead>\n",
       "  <tbody>\n",
       "    <tr>\n",
       "      <th>4</th>\n",
       "      <td>successfully</td>\n",
       "      <td>success</td>\n",
       "      <td>successfully</td>\n",
       "    </tr>\n",
       "    <tr>\n",
       "      <th>10</th>\n",
       "      <td>course</td>\n",
       "      <td>cours</td>\n",
       "      <td>course</td>\n",
       "    </tr>\n",
       "    <tr>\n",
       "      <th>21</th>\n",
       "      <td>george</td>\n",
       "      <td>georg</td>\n",
       "      <td>george</td>\n",
       "    </tr>\n",
       "    <tr>\n",
       "      <th>23</th>\n",
       "      <td>opened</td>\n",
       "      <td>open</td>\n",
       "      <td>opened</td>\n",
       "    </tr>\n",
       "    <tr>\n",
       "      <th>26</th>\n",
       "      <td>as</td>\n",
       "      <td>as</td>\n",
       "      <td>a</td>\n",
       "    </tr>\n",
       "    <tr>\n",
       "      <th>27</th>\n",
       "      <td>his</td>\n",
       "      <td>hi</td>\n",
       "      <td>his</td>\n",
       "    </tr>\n",
       "    <tr>\n",
       "      <th>29</th>\n",
       "      <td>was</td>\n",
       "      <td>wa</td>\n",
       "      <td>wa</td>\n",
       "    </tr>\n",
       "    <tr>\n",
       "      <th>39</th>\n",
       "      <td>ceremony</td>\n",
       "      <td>ceremoni</td>\n",
       "      <td>ceremony</td>\n",
       "    </tr>\n",
       "    <tr>\n",
       "      <th>49</th>\n",
       "      <td>was</td>\n",
       "      <td>wa</td>\n",
       "      <td>wa</td>\n",
       "    </tr>\n",
       "    <tr>\n",
       "      <th>51</th>\n",
       "      <td>achievement</td>\n",
       "      <td>achiev</td>\n",
       "      <td>achievement</td>\n",
       "    </tr>\n",
       "    <tr>\n",
       "      <th>53</th>\n",
       "      <td>congratulate</td>\n",
       "      <td>congratul</td>\n",
       "      <td>congratulate</td>\n",
       "    </tr>\n",
       "    <tr>\n",
       "      <th>55</th>\n",
       "      <td>adventurous</td>\n",
       "      <td>adventur</td>\n",
       "      <td>adventurous</td>\n",
       "    </tr>\n",
       "    <tr>\n",
       "      <th>56</th>\n",
       "      <td>traveller</td>\n",
       "      <td>travel</td>\n",
       "      <td>traveller</td>\n",
       "    </tr>\n",
       "  </tbody>\n",
       "</table>\n",
       "</div>"
      ],
      "text/plain": [
       "           token    stemmed    lemmatized\n",
       "4   successfully    success  successfully\n",
       "10        course      cours        course\n",
       "21        george      georg        george\n",
       "23        opened       open        opened\n",
       "26            as         as             a\n",
       "27           his         hi           his\n",
       "29           was         wa            wa\n",
       "39      ceremony   ceremoni      ceremony\n",
       "49           was         wa            wa\n",
       "51   achievement     achiev   achievement\n",
       "53  congratulate  congratul  congratulate\n",
       "55   adventurous   adventur   adventurous\n",
       "56     traveller     travel     traveller"
      ]
     },
     "execution_count": 42,
     "metadata": {},
     "output_type": "execute_result"
    }
   ],
   "source": [
    "df = pd.DataFrame(data={'token': tokens, 'stemmed': porter_stemmed, 'lemmatized': lemmatized})\n",
    "df = df[['token', 'stemmed', 'lemmatized']]\n",
    "df[(df.token != df.stemmed) | (df.token != df.lemmatized)]"
   ]
  },
  {
   "cell_type": "markdown",
   "id": "de01a0e8",
   "metadata": {},
   "source": [
    "The most popular lemmatizer is the WordNet lemmatizer created by a team od researchers at the Princeton university. You can read more about it https://wordnet.princeton.edu/ , lemmatizer work more accurately when we passs POS tags"
   ]
  },
  {
   "cell_type": "code",
   "execution_count": 44,
   "id": "659f5b9b",
   "metadata": {},
   "outputs": [],
   "source": [
    "# Tokenize the sentence and tag the parts of speech\n",
    "pos_tags = nltk.pos_tag(tokens)\n",
    "\n",
    "# Map the POS tags to the format required by the lemmatizer\n",
    "# ADJ, ADJ_SAT, ADV, NOUN, VERB = 'a', 's', 'r', 'n', 'v'\n",
    "pos_map = {'J': 'a', 'N': 'n', 'V': 'v', 'R': 'r'}\n",
    "\n",
    "# Lemmatize the tokens with their respective POS tags\n",
    "lemmatized_tokens = []\n",
    "for token, pos in pos_tags:\n",
    "    # Use the first letter of the POS tag to map to the correct WordNet POS tag\n",
    "    wn_pos = pos_map.get(pos[0].upper(), 'n')\n",
    "    lemmatized_token = wordnet_lemmatizer.lemmatize(token, pos=wn_pos)\n",
    "    lemmatized_tokens.append(lemmatized_token)"
   ]
  },
  {
   "cell_type": "code",
   "execution_count": 45,
   "id": "a8150978",
   "metadata": {},
   "outputs": [
    {
     "data": {
      "text/html": [
       "<div>\n",
       "<style scoped>\n",
       "    .dataframe tbody tr th:only-of-type {\n",
       "        vertical-align: middle;\n",
       "    }\n",
       "\n",
       "    .dataframe tbody tr th {\n",
       "        vertical-align: top;\n",
       "    }\n",
       "\n",
       "    .dataframe thead th {\n",
       "        text-align: right;\n",
       "    }\n",
       "</style>\n",
       "<table border=\"1\" class=\"dataframe\">\n",
       "  <thead>\n",
       "    <tr style=\"text-align: right;\">\n",
       "      <th></th>\n",
       "      <th>token</th>\n",
       "      <th>stemmed</th>\n",
       "      <th>lemmatized</th>\n",
       "    </tr>\n",
       "  </thead>\n",
       "  <tbody>\n",
       "    <tr>\n",
       "      <th>3</th>\n",
       "      <td>got</td>\n",
       "      <td>got</td>\n",
       "      <td>get</td>\n",
       "    </tr>\n",
       "    <tr>\n",
       "      <th>4</th>\n",
       "      <td>successfully</td>\n",
       "      <td>success</td>\n",
       "      <td>successfully</td>\n",
       "    </tr>\n",
       "    <tr>\n",
       "      <th>10</th>\n",
       "      <td>course</td>\n",
       "      <td>cours</td>\n",
       "      <td>course</td>\n",
       "    </tr>\n",
       "    <tr>\n",
       "      <th>21</th>\n",
       "      <td>george</td>\n",
       "      <td>georg</td>\n",
       "      <td>george</td>\n",
       "    </tr>\n",
       "    <tr>\n",
       "      <th>23</th>\n",
       "      <td>opened</td>\n",
       "      <td>open</td>\n",
       "      <td>open</td>\n",
       "    </tr>\n",
       "    <tr>\n",
       "      <th>26</th>\n",
       "      <td>as</td>\n",
       "      <td>as</td>\n",
       "      <td>a</td>\n",
       "    </tr>\n",
       "    <tr>\n",
       "      <th>27</th>\n",
       "      <td>his</td>\n",
       "      <td>hi</td>\n",
       "      <td>his</td>\n",
       "    </tr>\n",
       "    <tr>\n",
       "      <th>29</th>\n",
       "      <td>was</td>\n",
       "      <td>wa</td>\n",
       "      <td>be</td>\n",
       "    </tr>\n",
       "    <tr>\n",
       "      <th>32</th>\n",
       "      <td>did</td>\n",
       "      <td>did</td>\n",
       "      <td>do</td>\n",
       "    </tr>\n",
       "    <tr>\n",
       "      <th>39</th>\n",
       "      <td>ceremony</td>\n",
       "      <td>ceremoni</td>\n",
       "      <td>ceremony</td>\n",
       "    </tr>\n",
       "    <tr>\n",
       "      <th>49</th>\n",
       "      <td>was</td>\n",
       "      <td>wa</td>\n",
       "      <td>be</td>\n",
       "    </tr>\n",
       "    <tr>\n",
       "      <th>51</th>\n",
       "      <td>achievement</td>\n",
       "      <td>achiev</td>\n",
       "      <td>achievement</td>\n",
       "    </tr>\n",
       "    <tr>\n",
       "      <th>53</th>\n",
       "      <td>congratulate</td>\n",
       "      <td>congratul</td>\n",
       "      <td>congratulate</td>\n",
       "    </tr>\n",
       "    <tr>\n",
       "      <th>55</th>\n",
       "      <td>adventurous</td>\n",
       "      <td>adventur</td>\n",
       "      <td>adventurous</td>\n",
       "    </tr>\n",
       "    <tr>\n",
       "      <th>56</th>\n",
       "      <td>traveller</td>\n",
       "      <td>travel</td>\n",
       "      <td>traveller</td>\n",
       "    </tr>\n",
       "  </tbody>\n",
       "</table>\n",
       "</div>"
      ],
      "text/plain": [
       "           token    stemmed    lemmatized\n",
       "3            got        got           get\n",
       "4   successfully    success  successfully\n",
       "10        course      cours        course\n",
       "21        george      georg        george\n",
       "23        opened       open          open\n",
       "26            as         as             a\n",
       "27           his         hi           his\n",
       "29           was         wa            be\n",
       "32           did        did            do\n",
       "39      ceremony   ceremoni      ceremony\n",
       "49           was         wa            be\n",
       "51   achievement     achiev   achievement\n",
       "53  congratulate  congratul  congratulate\n",
       "55   adventurous   adventur   adventurous\n",
       "56     traveller     travel     traveller"
      ]
     },
     "execution_count": 45,
     "metadata": {},
     "output_type": "execute_result"
    }
   ],
   "source": [
    "df = pd.DataFrame(data={'token': tokens, 'stemmed': porter_stemmed, 'lemmatized': lemmatized_tokens})\n",
    "df = df[['token', 'stemmed', 'lemmatized']]\n",
    "df[(df.token != df.stemmed) | (df.token != df.lemmatized)]"
   ]
  },
  {
   "cell_type": "markdown",
   "id": "bab928aa",
   "metadata": {},
   "source": [
    "After passing POS tags we can see some differences in lemmatized tokens."
   ]
  },
  {
   "cell_type": "markdown",
   "id": "a1a02552",
   "metadata": {},
   "source": [
    "For running any machine learning on text, we should represent text in a format that you can feed into machine learning, all these algoritmems understand numbers. We need to find out ways to represent text in numbers. some of the popular approches to convert text to numbers is\n",
    "1. Bag Of Words Representation\n",
    "2. TF-IDF Representation"
   ]
  },
  {
   "cell_type": "markdown",
   "id": "2b9b27d4",
   "metadata": {},
   "source": [
    "#### Bag Of Words\n",
    "\n",
    "Bag of Words (BoW) is a commonly used technique for representing textual data in natural language processing. It is a way of converting text into numerical features that can be used for various machine learning tasks such as text classification, clustering, and information retrieval.\n",
    "\n",
    "In the BoW representation, a document is represented as a bag (multiset) of its words, disregarding grammar and word order but keeping track of their frequency/presence of occurrence. The set of words used to represent a document is called the vocabulary. The BoW representation is typically constructed by following these steps:\n",
    "\n",
    "1. Tokenization: The text is first divided into individual words or tokens.\n",
    "2. Stop word: Remove stop words\n",
    "3. Vocabulary construction: A unique set of words that occur in the text is created, which forms the vocabulary.\n",
    "4. Counting: The frequency of occurrence of each word in the vocabulary is counted in the text, resulting in a vector of counts for each document.\n",
    "\n",
    "We can either fill the cell with the frequency of a word or fill the cell with 0, in case the word is not present or 1, in case the word is present."
   ]
  },
  {
   "cell_type": "markdown",
   "id": "df895127",
   "metadata": {},
   "source": [
    "lets create BOW for below sentences\n",
    "1. I am not happy\n",
    "2. I am very happy\n",
    "3. I am sad\n",
    "\n",
    "after step 1,2 the vocab will be\n",
    "Vocabulary: {\"happy\",\"sad\",\"very\"}\n",
    "\n",
    "so the numerical representation would be\n",
    "1. [0,0,0,1]\n",
    "2. [0,0,1,1]\n",
    "3. [0,0,1,0]\n",
    "\n",
    "Countvectorizer is a method in sklearn package that converts a collection of text documents to a matrix of token counts."
   ]
  },
  {
   "cell_type": "code",
   "execution_count": 56,
   "id": "536f7d62",
   "metadata": {},
   "outputs": [],
   "source": [
    "# load all necessary libraries\n",
    "import pandas as pd\n",
    "from nltk.tokenize import word_tokenize\n",
    "from nltk.corpus import stopwords\n",
    "from sklearn.feature_extraction.text import CountVectorizer"
   ]
  },
  {
   "cell_type": "code",
   "execution_count": 58,
   "id": "59974336",
   "metadata": {},
   "outputs": [
    {
     "name": "stdout",
     "output_type": "stream",
     "text": [
      "['I am not happy', 'I am very happy', 'I am happpy', 'I am sad', 'this is a cheap phone', 'This movie is not great', 'This great movie is not to be missed']\n"
     ]
    }
   ],
   "source": [
    "print (sample)"
   ]
  },
  {
   "cell_type": "code",
   "execution_count": 66,
   "id": "0e4791b3",
   "metadata": {},
   "outputs": [
    {
     "name": "stdout",
     "output_type": "stream",
     "text": [
      "['happy', 'happy', 'happpy', 'sad', 'cheap phone', 'movie great', 'great movie missed']\n"
     ]
    }
   ],
   "source": [
    "def preprocess(document):\n",
    "    # change sentence to lower case\n",
    "    document = document.lower()\n",
    "    # tokenize into words\n",
    "    words = word_tokenize(document)\n",
    "    # remove stop words\n",
    "    words = [word for word in words if word not in stopwords.words(\"english\")]\n",
    "    # join words to make sentence\n",
    "    document = \" \".join(words)\n",
    "    # we can also try stemming or lemmatzation to reduce the dimensions\n",
    "    return document\n",
    "\n",
    "documents = [preprocess(document) for document in sample]\n",
    "print(documents)"
   ]
  },
  {
   "cell_type": "code",
   "execution_count": 67,
   "id": "10e37bf8",
   "metadata": {},
   "outputs": [
    {
     "name": "stdout",
     "output_type": "stream",
     "text": [
      "[[0 0 0 1 0 0 0 0]\n",
      " [0 0 0 1 0 0 0 0]\n",
      " [0 0 1 0 0 0 0 0]\n",
      " [0 0 0 0 0 0 0 1]\n",
      " [1 0 0 0 0 0 1 0]\n",
      " [0 1 0 0 0 1 0 0]\n",
      " [0 1 0 0 1 1 0 0]]\n"
     ]
    }
   ],
   "source": [
    "vectorizer = CountVectorizer()\n",
    "bow_model = vectorizer.fit_transform(documents)\n",
    "print(bow_model.toarray())"
   ]
  },
  {
   "cell_type": "code",
   "execution_count": 68,
   "id": "09a19a46",
   "metadata": {},
   "outputs": [
    {
     "name": "stdout",
     "output_type": "stream",
     "text": [
      "(7, 8)\n",
      "['cheap' 'great' 'happpy' 'happy' 'missed' 'movie' 'phone' 'sad']\n"
     ]
    }
   ],
   "source": [
    "print(bow_model.shape)\n",
    "print(vectorizer.get_feature_names_out())"
   ]
  },
  {
   "cell_type": "markdown",
   "id": "e64cbda7",
   "metadata": {},
   "source": [
    "#### TF-IDF\n",
    "Although the bag of words representation is a widely used method for text representation, it has limitations as it relies solely on the word frequencies in a document. One could argue that word representation should not be solely based on frequency. An alternative method for representing documents is the TF-IDF representation, which is more sophisticated and preferred by many data scientists. This approach represents words in a matrix format that takes into account the importance of each word based on its frequency in the document and its frequency in the overall corpus.\n",
    "\n",
    "TF-IDF model takes into the account the importance of each word. In the bag-of-words model, each word is assumed to be equally important, below is the formula."
   ]
  },
  {
   "cell_type": "markdown",
   "id": "fbf1c234",
   "metadata": {},
   "source": [
    "$$\\text{tf}(t, d) = \\text{frequency of term t in document d} \\div \\text{total of terms in document d} $$\n",
    "\n",
    "$$\\text idf(𝑡,𝑑,𝐷) = \\log \\text{total number of documents} \\div \\text{total number of documents that have term t} $$\n",
    "\n",
    "\n",
    "$$\\text{tf-idf}(t, d, D) = \\text{tf}(t, d) \\times \\text{idf}(t, d, D)$$\n",
    "Where t denotes the terms; d denotes each document; D denotes the collection of documents.\n",
    "\n",
    "The first part of the formula $tf(t, d)$ stands for term frequency, which is defined by the number of times a term $t$ occurs in a document $d$.\n",
    "\n",
    "TfidfVectorizer is a method in sklearn package that converts a collection of text documents to a matrix of token counts."
   ]
  },
  {
   "cell_type": "code",
   "execution_count": 70,
   "id": "4911c202",
   "metadata": {},
   "outputs": [],
   "source": [
    "from sklearn.feature_extraction.text import TfidfVectorizer\n",
    "vectorizer = TfidfVectorizer()\n",
    "tfidf_model = vectorizer.fit_transform(documents)"
   ]
  },
  {
   "cell_type": "code",
   "execution_count": 71,
   "id": "eefe0e4c",
   "metadata": {},
   "outputs": [
    {
     "name": "stdout",
     "output_type": "stream",
     "text": [
      "[[0.         0.         0.         1.         0.         0.\n",
      "  0.         0.        ]\n",
      " [0.         0.         0.         1.         0.         0.\n",
      "  0.         0.        ]\n",
      " [0.         0.         1.         0.         0.         0.\n",
      "  0.         0.        ]\n",
      " [0.         0.         0.         0.         0.         0.\n",
      "  0.         1.        ]\n",
      " [0.70710678 0.         0.         0.         0.         0.\n",
      "  0.70710678 0.        ]\n",
      " [0.         0.70710678 0.         0.         0.         0.70710678\n",
      "  0.         0.        ]\n",
      " [0.         0.53828134 0.         0.         0.64846464 0.53828134\n",
      "  0.         0.        ]]\n"
     ]
    }
   ],
   "source": [
    "print(tfidf_model.toarray())"
   ]
  },
  {
   "cell_type": "code",
   "execution_count": 73,
   "id": "9173ed58",
   "metadata": {},
   "outputs": [
    {
     "data": {
      "text/html": [
       "<div>\n",
       "<style scoped>\n",
       "    .dataframe tbody tr th:only-of-type {\n",
       "        vertical-align: middle;\n",
       "    }\n",
       "\n",
       "    .dataframe tbody tr th {\n",
       "        vertical-align: top;\n",
       "    }\n",
       "\n",
       "    .dataframe thead th {\n",
       "        text-align: right;\n",
       "    }\n",
       "</style>\n",
       "<table border=\"1\" class=\"dataframe\">\n",
       "  <thead>\n",
       "    <tr style=\"text-align: right;\">\n",
       "      <th></th>\n",
       "      <th>cheap</th>\n",
       "      <th>great</th>\n",
       "      <th>happpy</th>\n",
       "      <th>happy</th>\n",
       "      <th>missed</th>\n",
       "      <th>movie</th>\n",
       "      <th>phone</th>\n",
       "      <th>sad</th>\n",
       "    </tr>\n",
       "  </thead>\n",
       "  <tbody>\n",
       "    <tr>\n",
       "      <th>0</th>\n",
       "      <td>0.000000</td>\n",
       "      <td>0.000000</td>\n",
       "      <td>0.0</td>\n",
       "      <td>1.0</td>\n",
       "      <td>0.000000</td>\n",
       "      <td>0.000000</td>\n",
       "      <td>0.000000</td>\n",
       "      <td>0.0</td>\n",
       "    </tr>\n",
       "    <tr>\n",
       "      <th>1</th>\n",
       "      <td>0.000000</td>\n",
       "      <td>0.000000</td>\n",
       "      <td>0.0</td>\n",
       "      <td>1.0</td>\n",
       "      <td>0.000000</td>\n",
       "      <td>0.000000</td>\n",
       "      <td>0.000000</td>\n",
       "      <td>0.0</td>\n",
       "    </tr>\n",
       "    <tr>\n",
       "      <th>2</th>\n",
       "      <td>0.000000</td>\n",
       "      <td>0.000000</td>\n",
       "      <td>1.0</td>\n",
       "      <td>0.0</td>\n",
       "      <td>0.000000</td>\n",
       "      <td>0.000000</td>\n",
       "      <td>0.000000</td>\n",
       "      <td>0.0</td>\n",
       "    </tr>\n",
       "    <tr>\n",
       "      <th>3</th>\n",
       "      <td>0.000000</td>\n",
       "      <td>0.000000</td>\n",
       "      <td>0.0</td>\n",
       "      <td>0.0</td>\n",
       "      <td>0.000000</td>\n",
       "      <td>0.000000</td>\n",
       "      <td>0.000000</td>\n",
       "      <td>1.0</td>\n",
       "    </tr>\n",
       "    <tr>\n",
       "      <th>4</th>\n",
       "      <td>0.707107</td>\n",
       "      <td>0.000000</td>\n",
       "      <td>0.0</td>\n",
       "      <td>0.0</td>\n",
       "      <td>0.000000</td>\n",
       "      <td>0.000000</td>\n",
       "      <td>0.707107</td>\n",
       "      <td>0.0</td>\n",
       "    </tr>\n",
       "    <tr>\n",
       "      <th>5</th>\n",
       "      <td>0.000000</td>\n",
       "      <td>0.707107</td>\n",
       "      <td>0.0</td>\n",
       "      <td>0.0</td>\n",
       "      <td>0.000000</td>\n",
       "      <td>0.707107</td>\n",
       "      <td>0.000000</td>\n",
       "      <td>0.0</td>\n",
       "    </tr>\n",
       "    <tr>\n",
       "      <th>6</th>\n",
       "      <td>0.000000</td>\n",
       "      <td>0.538281</td>\n",
       "      <td>0.0</td>\n",
       "      <td>0.0</td>\n",
       "      <td>0.648465</td>\n",
       "      <td>0.538281</td>\n",
       "      <td>0.000000</td>\n",
       "      <td>0.0</td>\n",
       "    </tr>\n",
       "  </tbody>\n",
       "</table>\n",
       "</div>"
      ],
      "text/plain": [
       "      cheap     great  happpy  happy    missed     movie     phone  sad\n",
       "0  0.000000  0.000000     0.0    1.0  0.000000  0.000000  0.000000  0.0\n",
       "1  0.000000  0.000000     0.0    1.0  0.000000  0.000000  0.000000  0.0\n",
       "2  0.000000  0.000000     1.0    0.0  0.000000  0.000000  0.000000  0.0\n",
       "3  0.000000  0.000000     0.0    0.0  0.000000  0.000000  0.000000  1.0\n",
       "4  0.707107  0.000000     0.0    0.0  0.000000  0.000000  0.707107  0.0\n",
       "5  0.000000  0.707107     0.0    0.0  0.000000  0.707107  0.000000  0.0\n",
       "6  0.000000  0.538281     0.0    0.0  0.648465  0.538281  0.000000  0.0"
      ]
     },
     "execution_count": 73,
     "metadata": {},
     "output_type": "execute_result"
    }
   ],
   "source": [
    "pd.DataFrame(tfidf_model.toarray(), columns = vectorizer.get_feature_names_out())"
   ]
  },
  {
   "cell_type": "markdown",
   "id": "a7cbcaea",
   "metadata": {},
   "source": [
    "<font color='red'> We have learnt important concepts in Lexical processing , text normilization , Each concepte thate we have discussed so fare are very broad and deep, you can explore each topic out of your own interested lets put this concepts to work for the use case we started which is Sentiment analysis. </font>\n"
   ]
  },
  {
   "cell_type": "markdown",
   "id": "d6008694",
   "metadata": {},
   "source": [
    "#### Lexicon And Rule based sentiment analysis\n",
    "<font color='red'>Lexicons and rule based approch , There are may lexicons SentiWordNet, SentiStrength,  Liu and Hu Lexicon one of the many popular approch is VADER (Valence Aware Lexicon and sEntiment Reasoner) it is a lexicon and rule-based sentiment analysis tool that is specifically attuned to sentiments expressed in social media.<br>We have already done basic text preprocessing of text , we dont have to reinvent the wheel, lot pf libraries are published to preprocess text based on its source like , tweet , review, news etc. we will use one of those libraris for preprocessing, you can explore more based on your text source and use case \n",
    "\n",
    "https://towardsdatascience.com/social-media-sentiment-analysis-in-python-with-vader-no-training-required-4bc6a21e87b8\n",
    "\n",
    "https://www.kaggle.com/code/sreejiths0/efficient-tweet-preprocessing\n",
    "</font>"
   ]
  },
  {
   "cell_type": "code",
   "execution_count": 80,
   "id": "cd299136",
   "metadata": {},
   "outputs": [
    {
     "data": {
      "text/html": [
       "<div>\n",
       "<style scoped>\n",
       "    .dataframe tbody tr th:only-of-type {\n",
       "        vertical-align: middle;\n",
       "    }\n",
       "\n",
       "    .dataframe tbody tr th {\n",
       "        vertical-align: top;\n",
       "    }\n",
       "\n",
       "    .dataframe thead th {\n",
       "        text-align: right;\n",
       "    }\n",
       "</style>\n",
       "<table border=\"1\" class=\"dataframe\">\n",
       "  <thead>\n",
       "    <tr style=\"text-align: right;\">\n",
       "      <th></th>\n",
       "      <th>text</th>\n",
       "      <th>sentiment</th>\n",
       "    </tr>\n",
       "  </thead>\n",
       "  <tbody>\n",
       "    <tr>\n",
       "      <th>0</th>\n",
       "      <td>Shanghai is also really exciting (precisely -...</td>\n",
       "      <td>positive</td>\n",
       "    </tr>\n",
       "    <tr>\n",
       "      <th>1</th>\n",
       "      <td>Recession hit Veronique Branquinho, she has to...</td>\n",
       "      <td>negative</td>\n",
       "    </tr>\n",
       "    <tr>\n",
       "      <th>2</th>\n",
       "      <td>happy bday!</td>\n",
       "      <td>positive</td>\n",
       "    </tr>\n",
       "    <tr>\n",
       "      <th>3</th>\n",
       "      <td>http://twitpic.com/4w75p - I like it!!</td>\n",
       "      <td>positive</td>\n",
       "    </tr>\n",
       "    <tr>\n",
       "      <th>4</th>\n",
       "      <td>that`s great!! weee!! visitors!</td>\n",
       "      <td>positive</td>\n",
       "    </tr>\n",
       "  </tbody>\n",
       "</table>\n",
       "</div>"
      ],
      "text/plain": [
       "                                                text sentiment\n",
       "0   Shanghai is also really exciting (precisely -...  positive\n",
       "1  Recession hit Veronique Branquinho, she has to...  negative\n",
       "2                                        happy bday!  positive\n",
       "3             http://twitpic.com/4w75p - I like it!!  positive\n",
       "4                    that`s great!! weee!! visitors!  positive"
      ]
     },
     "execution_count": 80,
     "metadata": {},
     "output_type": "execute_result"
    }
   ],
   "source": [
    "#Lets check some tweets\n",
    "df = pd.read_csv('test.csv')\n",
    "df.head()"
   ]
  },
  {
   "cell_type": "code",
   "execution_count": 81,
   "id": "14d83ac1",
   "metadata": {},
   "outputs": [
    {
     "data": {
      "text/plain": [
       "text         2104\n",
       "sentiment    2104\n",
       "dtype: int64"
      ]
     },
     "execution_count": 81,
     "metadata": {},
     "output_type": "execute_result"
    }
   ],
   "source": [
    "df.count()"
   ]
  },
  {
   "cell_type": "code",
   "execution_count": 82,
   "id": "e0bf4034",
   "metadata": {},
   "outputs": [],
   "source": [
    "df = df.dropna()\n",
    "df = df.drop_duplicates()"
   ]
  },
  {
   "cell_type": "code",
   "execution_count": 83,
   "id": "e8b17994",
   "metadata": {},
   "outputs": [
    {
     "data": {
      "text/plain": [
       "text         2104\n",
       "sentiment    2104\n",
       "dtype: int64"
      ]
     },
     "execution_count": 83,
     "metadata": {},
     "output_type": "execute_result"
    }
   ],
   "source": [
    "df.count()"
   ]
  },
  {
   "cell_type": "code",
   "execution_count": 84,
   "id": "237e14e2",
   "metadata": {},
   "outputs": [],
   "source": [
    "#Lets clean it\n",
    "import preprocessor as preprocess\n",
    "\n",
    "def preprocess_tweet(row):\n",
    "    text = row['text']\n",
    "    text = preprocess.clean(text)\n",
    "    return text\n"
   ]
  },
  {
   "cell_type": "code",
   "execution_count": 85,
   "id": "4a17a17d",
   "metadata": {},
   "outputs": [],
   "source": [
    "df['text'] = df.apply(preprocess_tweet, axis=1)"
   ]
  },
  {
   "cell_type": "code",
   "execution_count": 86,
   "id": "57e4daa6",
   "metadata": {},
   "outputs": [
    {
     "data": {
      "text/html": [
       "<div>\n",
       "<style scoped>\n",
       "    .dataframe tbody tr th:only-of-type {\n",
       "        vertical-align: middle;\n",
       "    }\n",
       "\n",
       "    .dataframe tbody tr th {\n",
       "        vertical-align: top;\n",
       "    }\n",
       "\n",
       "    .dataframe thead th {\n",
       "        text-align: right;\n",
       "    }\n",
       "</style>\n",
       "<table border=\"1\" class=\"dataframe\">\n",
       "  <thead>\n",
       "    <tr style=\"text-align: right;\">\n",
       "      <th></th>\n",
       "      <th>text</th>\n",
       "      <th>sentiment</th>\n",
       "    </tr>\n",
       "  </thead>\n",
       "  <tbody>\n",
       "    <tr>\n",
       "      <th>0</th>\n",
       "      <td>Shanghai is also really exciting (precisely --...</td>\n",
       "      <td>positive</td>\n",
       "    </tr>\n",
       "    <tr>\n",
       "      <th>1</th>\n",
       "      <td>Recession hit Veronique Branquinho, she has to...</td>\n",
       "      <td>negative</td>\n",
       "    </tr>\n",
       "    <tr>\n",
       "      <th>2</th>\n",
       "      <td>happy bday!</td>\n",
       "      <td>positive</td>\n",
       "    </tr>\n",
       "    <tr>\n",
       "      <th>3</th>\n",
       "      <td>- I like it!!</td>\n",
       "      <td>positive</td>\n",
       "    </tr>\n",
       "    <tr>\n",
       "      <th>4</th>\n",
       "      <td>that`s great!! weee!! visitors!</td>\n",
       "      <td>positive</td>\n",
       "    </tr>\n",
       "  </tbody>\n",
       "</table>\n",
       "</div>"
      ],
      "text/plain": [
       "                                                text sentiment\n",
       "0  Shanghai is also really exciting (precisely --...  positive\n",
       "1  Recession hit Veronique Branquinho, she has to...  negative\n",
       "2                                        happy bday!  positive\n",
       "3                                      - I like it!!  positive\n",
       "4                    that`s great!! weee!! visitors!  positive"
      ]
     },
     "execution_count": 86,
     "metadata": {},
     "output_type": "execute_result"
    }
   ],
   "source": [
    "df.head()"
   ]
  },
  {
   "cell_type": "code",
   "execution_count": 87,
   "id": "2ad76313",
   "metadata": {},
   "outputs": [
    {
     "name": "stderr",
     "output_type": "stream",
     "text": [
      "/var/folders/cr/v1rfjrlj5c17x23nnswy0kv00000gn/T/ipykernel_27217/3862641593.py:1: FutureWarning: The default value of regex will change from True to False in a future version.\n",
      "  df['text'] = df['text'].str.lower().str.replace('[^\\w\\s]',' ').str.replace('\\s\\s+', ' ')\n"
     ]
    }
   ],
   "source": [
    "df['text'] = df['text'].str.lower().str.replace('[^\\w\\s]',' ').str.replace('\\s\\s+', ' ')"
   ]
  },
  {
   "cell_type": "code",
   "execution_count": 88,
   "id": "c657cfc3",
   "metadata": {},
   "outputs": [
    {
     "data": {
      "text/html": [
       "<div>\n",
       "<style scoped>\n",
       "    .dataframe tbody tr th:only-of-type {\n",
       "        vertical-align: middle;\n",
       "    }\n",
       "\n",
       "    .dataframe tbody tr th {\n",
       "        vertical-align: top;\n",
       "    }\n",
       "\n",
       "    .dataframe thead th {\n",
       "        text-align: right;\n",
       "    }\n",
       "</style>\n",
       "<table border=\"1\" class=\"dataframe\">\n",
       "  <thead>\n",
       "    <tr style=\"text-align: right;\">\n",
       "      <th></th>\n",
       "      <th>text</th>\n",
       "      <th>sentiment</th>\n",
       "    </tr>\n",
       "  </thead>\n",
       "  <tbody>\n",
       "    <tr>\n",
       "      <th>0</th>\n",
       "      <td>shanghai is also really exciting precisely sky...</td>\n",
       "      <td>positive</td>\n",
       "    </tr>\n",
       "    <tr>\n",
       "      <th>1</th>\n",
       "      <td>recession hit veronique branquinho she has to ...</td>\n",
       "      <td>negative</td>\n",
       "    </tr>\n",
       "    <tr>\n",
       "      <th>2</th>\n",
       "      <td>happy bday</td>\n",
       "      <td>positive</td>\n",
       "    </tr>\n",
       "    <tr>\n",
       "      <th>3</th>\n",
       "      <td>i like it</td>\n",
       "      <td>positive</td>\n",
       "    </tr>\n",
       "    <tr>\n",
       "      <th>4</th>\n",
       "      <td>that s great weee visitors</td>\n",
       "      <td>positive</td>\n",
       "    </tr>\n",
       "  </tbody>\n",
       "</table>\n",
       "</div>"
      ],
      "text/plain": [
       "                                                text sentiment\n",
       "0  shanghai is also really exciting precisely sky...  positive\n",
       "1  recession hit veronique branquinho she has to ...  negative\n",
       "2                                        happy bday   positive\n",
       "3                                         i like it   positive\n",
       "4                        that s great weee visitors   positive"
      ]
     },
     "execution_count": 88,
     "metadata": {},
     "output_type": "execute_result"
    }
   ],
   "source": [
    "df.head()"
   ]
  },
  {
   "cell_type": "code",
   "execution_count": 89,
   "id": "6f3fd2ae",
   "metadata": {},
   "outputs": [],
   "source": [
    "import nltk\n",
    "#nltk.download('vader_lexicon')\n",
    "from nltk.sentiment.vader import SentimentIntensityAnalyzer\n",
    "\n",
    "sent_analyzer = SentimentIntensityAnalyzer()\n",
    "\n",
    "def format_output(output_dict):\n",
    "    polarity = \"neutral\"\n",
    "    if(output_dict['compound']>= 0.05):\n",
    "        polarity = \"positive\"\n",
    "    elif(output_dict['compound']<= -0.05):\n",
    "        polarity = \"negative\"\n",
    "    return polarity\n",
    "\n",
    "def predict_sentiment(text):\n",
    "    output_dict =  sent_analyzer.polarity_scores(text)\n",
    "    return format_output(output_dict)\n",
    "\n",
    "# Run the predictions\n",
    "df[\"vader_prediction\"] = df['text'].apply(predict_sentiment)"
   ]
  },
  {
   "cell_type": "code",
   "execution_count": 90,
   "id": "7f88fac8",
   "metadata": {},
   "outputs": [
    {
     "data": {
      "text/html": [
       "<div>\n",
       "<style scoped>\n",
       "    .dataframe tbody tr th:only-of-type {\n",
       "        vertical-align: middle;\n",
       "    }\n",
       "\n",
       "    .dataframe tbody tr th {\n",
       "        vertical-align: top;\n",
       "    }\n",
       "\n",
       "    .dataframe thead th {\n",
       "        text-align: right;\n",
       "    }\n",
       "</style>\n",
       "<table border=\"1\" class=\"dataframe\">\n",
       "  <thead>\n",
       "    <tr style=\"text-align: right;\">\n",
       "      <th></th>\n",
       "      <th>text</th>\n",
       "      <th>sentiment</th>\n",
       "      <th>vader_prediction</th>\n",
       "    </tr>\n",
       "  </thead>\n",
       "  <tbody>\n",
       "    <tr>\n",
       "      <th>0</th>\n",
       "      <td>shanghai is also really exciting precisely sky...</td>\n",
       "      <td>positive</td>\n",
       "      <td>positive</td>\n",
       "    </tr>\n",
       "    <tr>\n",
       "      <th>1</th>\n",
       "      <td>recession hit veronique branquinho she has to ...</td>\n",
       "      <td>negative</td>\n",
       "      <td>negative</td>\n",
       "    </tr>\n",
       "    <tr>\n",
       "      <th>2</th>\n",
       "      <td>happy bday</td>\n",
       "      <td>positive</td>\n",
       "      <td>positive</td>\n",
       "    </tr>\n",
       "    <tr>\n",
       "      <th>3</th>\n",
       "      <td>i like it</td>\n",
       "      <td>positive</td>\n",
       "      <td>positive</td>\n",
       "    </tr>\n",
       "    <tr>\n",
       "      <th>4</th>\n",
       "      <td>that s great weee visitors</td>\n",
       "      <td>positive</td>\n",
       "      <td>positive</td>\n",
       "    </tr>\n",
       "  </tbody>\n",
       "</table>\n",
       "</div>"
      ],
      "text/plain": [
       "                                                text sentiment  \\\n",
       "0  shanghai is also really exciting precisely sky...  positive   \n",
       "1  recession hit veronique branquinho she has to ...  negative   \n",
       "2                                        happy bday   positive   \n",
       "3                                         i like it   positive   \n",
       "4                        that s great weee visitors   positive   \n",
       "\n",
       "  vader_prediction  \n",
       "0         positive  \n",
       "1         negative  \n",
       "2         positive  \n",
       "3         positive  \n",
       "4         positive  "
      ]
     },
     "execution_count": 90,
     "metadata": {},
     "output_type": "execute_result"
    }
   ],
   "source": [
    "df.head()"
   ]
  },
  {
   "cell_type": "code",
   "execution_count": 94,
   "id": "5a7fefff",
   "metadata": {},
   "outputs": [
    {
     "name": "stdout",
     "output_type": "stream",
     "text": [
      "Accuracy: 0.7761406844106464\n",
      "\n",
      "              precision    recall  f1-score   support\n",
      "\n",
      "    negative       0.94      0.64      0.76      1001\n",
      "     neutral       0.00      0.00      0.00         0\n",
      "    positive       0.83      0.90      0.86      1103\n",
      "\n",
      "    accuracy                           0.78      2104\n",
      "   macro avg       0.59      0.51      0.54      2104\n",
      "weighted avg       0.88      0.78      0.81      2104\n",
      "\n"
     ]
    }
   ],
   "source": [
    "from sklearn.metrics import accuracy_score, classification_report\n",
    "import warnings\n",
    "warnings.filterwarnings('ignore')\n",
    "\n",
    "accuracy = accuracy_score(df['sentiment'], df['vader_prediction'])\n",
    "\n",
    "print(\"Accuracy: {}\\n\".format(accuracy))\n",
    "\n",
    "# Show the classification report\n",
    "print(classification_report(df['sentiment'], df['vader_prediction']))"
   ]
  },
  {
   "cell_type": "markdown",
   "id": "9be0d16e",
   "metadata": {},
   "source": [
    "#### Pros: \n",
    "1. Trained data are not required.\n",
    "2. Give good outcomes for domains whose words are present.\n",
    "3. Quick access to the vocabulary of word meanings.\n",
    "\n",
    "#### Cons:\n",
    "1. Opinion terms with a specific content orientation.\n",
    "2. Incapable of finding opinion terms with a specified content oriented domain that are not included in the lexicon.\n"
   ]
  },
  {
   "cell_type": "markdown",
   "id": "cf86d868",
   "metadata": {},
   "source": [
    "Exercise :: Exprement with various preprocessing tequnics, lower case, lemmatiziation other lexicons and rule based systems and compare the results\n",
    "\n",
    "\n",
    "Rule Based system dosenot learn anything from source documents , this is one of the biggest cons dude to evolving domain, slangs , useage of short forms , acronoiums . where are Machine-learning based NLP does not use any rules – rather it “learns”, or is “trained” by, source documents “annotated” by subject matter experts.\n",
    "\n",
    "Lets look at some of building classifier. this exercise is by no means to teach you nitty gretty about the clarrsier of choice of algorithem or hyper parameter tuning , for that you can go thro **path setter algo link**\n",
    "\n",
    "We have alread learnt couple of tequnics to convert text to numeric to make it sutaible for machine learning algorithmes, some of the other tequnics of feature engineering are also there like n-gram, noun phrase etc.\n",
    "\n",
    "For our learning purposes let use use TF-IDF feature."
   ]
  },
  {
   "cell_type": "markdown",
   "id": "835b1122",
   "metadata": {},
   "source": [
    "Read Train and Test data, the data is take from \"https://www.kaggle.com/competitions/tweet-sentiment-extraction/data\", i have removed few colums and nutral class label to make the exercise simpler."
   ]
  },
  {
   "cell_type": "code",
   "execution_count": 103,
   "id": "0b700b74",
   "metadata": {},
   "outputs": [],
   "source": [
    "import warnings\n",
    "warnings.filterwarnings('ignore')\n",
    "import preprocessor as preprocess\n",
    "import pandas as pd\n",
    "\n",
    "train_df = pd.read_csv('train.csv')\n",
    "test_df = pd.read_csv('test.csv')"
   ]
  },
  {
   "cell_type": "code",
   "execution_count": 104,
   "id": "ad1cab40",
   "metadata": {},
   "outputs": [
    {
     "data": {
      "text/html": [
       "<div>\n",
       "<style scoped>\n",
       "    .dataframe tbody tr th:only-of-type {\n",
       "        vertical-align: middle;\n",
       "    }\n",
       "\n",
       "    .dataframe tbody tr th {\n",
       "        vertical-align: top;\n",
       "    }\n",
       "\n",
       "    .dataframe thead th {\n",
       "        text-align: right;\n",
       "    }\n",
       "</style>\n",
       "<table border=\"1\" class=\"dataframe\">\n",
       "  <thead>\n",
       "    <tr style=\"text-align: right;\">\n",
       "      <th></th>\n",
       "      <th>text</th>\n",
       "      <th>sentiment</th>\n",
       "    </tr>\n",
       "  </thead>\n",
       "  <tbody>\n",
       "    <tr>\n",
       "      <th>0</th>\n",
       "      <td>Sooo SAD I will miss you here in San Diego!!!</td>\n",
       "      <td>negative</td>\n",
       "    </tr>\n",
       "    <tr>\n",
       "      <th>1</th>\n",
       "      <td>my boss is bullying me...</td>\n",
       "      <td>negative</td>\n",
       "    </tr>\n",
       "    <tr>\n",
       "      <th>2</th>\n",
       "      <td>what interview! leave me alone</td>\n",
       "      <td>negative</td>\n",
       "    </tr>\n",
       "    <tr>\n",
       "      <th>3</th>\n",
       "      <td>Sons of ****, why couldn`t they put them on t...</td>\n",
       "      <td>negative</td>\n",
       "    </tr>\n",
       "    <tr>\n",
       "      <th>4</th>\n",
       "      <td>2am feedings for the baby are fun when he is a...</td>\n",
       "      <td>positive</td>\n",
       "    </tr>\n",
       "  </tbody>\n",
       "</table>\n",
       "</div>"
      ],
      "text/plain": [
       "                                                text sentiment\n",
       "0      Sooo SAD I will miss you here in San Diego!!!  negative\n",
       "1                          my boss is bullying me...  negative\n",
       "2                     what interview! leave me alone  negative\n",
       "3   Sons of ****, why couldn`t they put them on t...  negative\n",
       "4  2am feedings for the baby are fun when he is a...  positive"
      ]
     },
     "execution_count": 104,
     "metadata": {},
     "output_type": "execute_result"
    }
   ],
   "source": [
    "train_df.head()"
   ]
  },
  {
   "cell_type": "markdown",
   "id": "bc918bb4",
   "metadata": {},
   "source": [
    "As i previously mentioned ther are lot of libraries in pyhton which give you high level abstraction so that you focus on the problem rather that wrinting code ground up , preprocessor is one such library available to help you clean tweet kind of text. we can also build oure own custome function if required we will see both."
   ]
  },
  {
   "cell_type": "code",
   "execution_count": 106,
   "id": "361c718d",
   "metadata": {},
   "outputs": [],
   "source": [
    "# using 3rd party libraries to preprocess , same function as shown above\n",
    "def preprocess_tweet(row):\n",
    "    text = row['text']\n",
    "    text = preprocess.clean(text)\n",
    "    return text"
   ]
  },
  {
   "cell_type": "code",
   "execution_count": 107,
   "id": "d37f11b0",
   "metadata": {},
   "outputs": [],
   "source": [
    "import random\n",
    "import nltk\n",
    "import pandas as pd\n",
    "from nltk.tokenize import word_tokenize\n",
    "from nltk.corpus import stopwords\n",
    "from nltk.stem.porter import PorterStemmer\n",
    "from nltk.stem import WordNetLemmatizer\n",
    "stemmer = PorterStemmer()\n",
    "wordnet_lemmatizer = WordNetLemmatizer()\n",
    "\n",
    "# Using custome preprocess function convert sentence to lower case, remove stopwords \n",
    "# apply lemmatization/stemming on sentence\n",
    "def custom_preprocess(document, stem=True):\n",
    "    document = document.lower()\n",
    "    words = word_tokenize(document)\n",
    "    words = [word for word in words if word not in stopwords.words(\"english\")]\n",
    "    if stem:\n",
    "        words = [stemmer.stem(word) for word in words]\n",
    "    else:\n",
    "        words = [wordnet_lemmatizer.lemmatize(word, pos='v') for word in words]\n",
    "    document = \" \".join(words)\n",
    "\n",
    "    return document"
   ]
  },
  {
   "cell_type": "code",
   "execution_count": 110,
   "id": "60eaa040",
   "metadata": {},
   "outputs": [],
   "source": [
    "train_df['text'] = train_df.apply(preprocess_tweet, axis=1)\n",
    "train_df['text'] = train_df['text'].str.lower().str.replace('[^\\w\\s]',' ').str.replace('\\s\\s+', ' ')"
   ]
  },
  {
   "cell_type": "code",
   "execution_count": 111,
   "id": "3f9a2084",
   "metadata": {},
   "outputs": [
    {
     "data": {
      "text/html": [
       "<div>\n",
       "<style scoped>\n",
       "    .dataframe tbody tr th:only-of-type {\n",
       "        vertical-align: middle;\n",
       "    }\n",
       "\n",
       "    .dataframe tbody tr th {\n",
       "        vertical-align: top;\n",
       "    }\n",
       "\n",
       "    .dataframe thead th {\n",
       "        text-align: right;\n",
       "    }\n",
       "</style>\n",
       "<table border=\"1\" class=\"dataframe\">\n",
       "  <thead>\n",
       "    <tr style=\"text-align: right;\">\n",
       "      <th></th>\n",
       "      <th>text</th>\n",
       "      <th>sentiment</th>\n",
       "    </tr>\n",
       "  </thead>\n",
       "  <tbody>\n",
       "    <tr>\n",
       "      <th>0</th>\n",
       "      <td>sooo sad i will miss you here in san diego</td>\n",
       "      <td>negative</td>\n",
       "    </tr>\n",
       "    <tr>\n",
       "      <th>1</th>\n",
       "      <td>my boss is bullying me</td>\n",
       "      <td>negative</td>\n",
       "    </tr>\n",
       "    <tr>\n",
       "      <th>2</th>\n",
       "      <td>what interview leave me alone</td>\n",
       "      <td>negative</td>\n",
       "    </tr>\n",
       "    <tr>\n",
       "      <th>3</th>\n",
       "      <td>sons of why couldn t they put them on the rele...</td>\n",
       "      <td>negative</td>\n",
       "    </tr>\n",
       "    <tr>\n",
       "      <th>4</th>\n",
       "      <td>am feedings for the baby are fun when he is al...</td>\n",
       "      <td>positive</td>\n",
       "    </tr>\n",
       "  </tbody>\n",
       "</table>\n",
       "</div>"
      ],
      "text/plain": [
       "                                                text sentiment\n",
       "0        sooo sad i will miss you here in san diego   negative\n",
       "1                            my boss is bullying me   negative\n",
       "2                      what interview leave me alone  negative\n",
       "3  sons of why couldn t they put them on the rele...  negative\n",
       "4  am feedings for the baby are fun when he is al...  positive"
      ]
     },
     "execution_count": 111,
     "metadata": {},
     "output_type": "execute_result"
    }
   ],
   "source": [
    "train_df.head()"
   ]
  },
  {
   "cell_type": "markdown",
   "id": "1dd984ad",
   "metadata": {},
   "source": [
    "We can see all the special characters removed , sentence is converted to lower case , extra white space are removed, now lets use custom function to remove stop words and stemming"
   ]
  },
  {
   "cell_type": "code",
   "execution_count": 113,
   "id": "bd5a3bf6",
   "metadata": {},
   "outputs": [],
   "source": [
    "train_df['text'] = train_df['text'].apply(custom_preprocess)"
   ]
  },
  {
   "cell_type": "code",
   "execution_count": 114,
   "id": "dd26476f",
   "metadata": {},
   "outputs": [
    {
     "data": {
      "text/html": [
       "<div>\n",
       "<style scoped>\n",
       "    .dataframe tbody tr th:only-of-type {\n",
       "        vertical-align: middle;\n",
       "    }\n",
       "\n",
       "    .dataframe tbody tr th {\n",
       "        vertical-align: top;\n",
       "    }\n",
       "\n",
       "    .dataframe thead th {\n",
       "        text-align: right;\n",
       "    }\n",
       "</style>\n",
       "<table border=\"1\" class=\"dataframe\">\n",
       "  <thead>\n",
       "    <tr style=\"text-align: right;\">\n",
       "      <th></th>\n",
       "      <th>text</th>\n",
       "      <th>sentiment</th>\n",
       "    </tr>\n",
       "  </thead>\n",
       "  <tbody>\n",
       "    <tr>\n",
       "      <th>0</th>\n",
       "      <td>sooo sad miss san diego</td>\n",
       "      <td>negative</td>\n",
       "    </tr>\n",
       "    <tr>\n",
       "      <th>1</th>\n",
       "      <td>boss bulli</td>\n",
       "      <td>negative</td>\n",
       "    </tr>\n",
       "    <tr>\n",
       "      <th>2</th>\n",
       "      <td>interview leav alon</td>\n",
       "      <td>negative</td>\n",
       "    </tr>\n",
       "    <tr>\n",
       "      <th>3</th>\n",
       "      <td>son put releas alreadi bought</td>\n",
       "      <td>negative</td>\n",
       "    </tr>\n",
       "    <tr>\n",
       "      <th>4</th>\n",
       "      <td>feed babi fun smile coo</td>\n",
       "      <td>positive</td>\n",
       "    </tr>\n",
       "  </tbody>\n",
       "</table>\n",
       "</div>"
      ],
      "text/plain": [
       "                            text sentiment\n",
       "0        sooo sad miss san diego  negative\n",
       "1                     boss bulli  negative\n",
       "2            interview leav alon  negative\n",
       "3  son put releas alreadi bought  negative\n",
       "4        feed babi fun smile coo  positive"
      ]
     },
     "execution_count": 114,
     "metadata": {},
     "output_type": "execute_result"
    }
   ],
   "source": [
    "train_df.head()"
   ]
  },
  {
   "cell_type": "markdown",
   "id": "5519d418",
   "metadata": {},
   "source": [
    "we can see stop words ahve been removed , and setmming has converted bullying to bulli , sons to son etc. now lets convert the text to ti-idf representation"
   ]
  },
  {
   "cell_type": "code",
   "execution_count": 117,
   "id": "b58a3352",
   "metadata": {},
   "outputs": [],
   "source": [
    "from sklearn.feature_extraction.text import TfidfVectorizer\n",
    "vectorizer = TfidfVectorizer(max_df=0.9, min_df=0.03)\n",
    "tfidf_vec = vectorizer.fit_transform(train_df['text'])"
   ]
  },
  {
   "cell_type": "code",
   "execution_count": 118,
   "id": "c57acc4d",
   "metadata": {},
   "outputs": [
    {
     "data": {
      "text/html": [
       "<div>\n",
       "<style scoped>\n",
       "    .dataframe tbody tr th:only-of-type {\n",
       "        vertical-align: middle;\n",
       "    }\n",
       "\n",
       "    .dataframe tbody tr th {\n",
       "        vertical-align: top;\n",
       "    }\n",
       "\n",
       "    .dataframe thead th {\n",
       "        text-align: right;\n",
       "    }\n",
       "</style>\n",
       "<table border=\"1\" class=\"dataframe\">\n",
       "  <thead>\n",
       "    <tr style=\"text-align: right;\">\n",
       "      <th></th>\n",
       "      <th>day</th>\n",
       "      <th>feel</th>\n",
       "      <th>get</th>\n",
       "      <th>go</th>\n",
       "      <th>good</th>\n",
       "      <th>got</th>\n",
       "      <th>great</th>\n",
       "      <th>happi</th>\n",
       "      <th>hope</th>\n",
       "      <th>im</th>\n",
       "      <th>...</th>\n",
       "      <th>mother</th>\n",
       "      <th>one</th>\n",
       "      <th>realli</th>\n",
       "      <th>see</th>\n",
       "      <th>thank</th>\n",
       "      <th>think</th>\n",
       "      <th>time</th>\n",
       "      <th>today</th>\n",
       "      <th>want</th>\n",
       "      <th>work</th>\n",
       "    </tr>\n",
       "  </thead>\n",
       "  <tbody>\n",
       "    <tr>\n",
       "      <th>0</th>\n",
       "      <td>0.0</td>\n",
       "      <td>0.0</td>\n",
       "      <td>0.0</td>\n",
       "      <td>0.0</td>\n",
       "      <td>0.0</td>\n",
       "      <td>0.0</td>\n",
       "      <td>0.0</td>\n",
       "      <td>0.0</td>\n",
       "      <td>0.0</td>\n",
       "      <td>0.0</td>\n",
       "      <td>...</td>\n",
       "      <td>0.0</td>\n",
       "      <td>0.0</td>\n",
       "      <td>0.0</td>\n",
       "      <td>0.0</td>\n",
       "      <td>0.0</td>\n",
       "      <td>0.0</td>\n",
       "      <td>0.0</td>\n",
       "      <td>0.0</td>\n",
       "      <td>0.0</td>\n",
       "      <td>0.0</td>\n",
       "    </tr>\n",
       "    <tr>\n",
       "      <th>1</th>\n",
       "      <td>0.0</td>\n",
       "      <td>0.0</td>\n",
       "      <td>0.0</td>\n",
       "      <td>0.0</td>\n",
       "      <td>0.0</td>\n",
       "      <td>0.0</td>\n",
       "      <td>0.0</td>\n",
       "      <td>0.0</td>\n",
       "      <td>0.0</td>\n",
       "      <td>0.0</td>\n",
       "      <td>...</td>\n",
       "      <td>0.0</td>\n",
       "      <td>0.0</td>\n",
       "      <td>0.0</td>\n",
       "      <td>0.0</td>\n",
       "      <td>0.0</td>\n",
       "      <td>0.0</td>\n",
       "      <td>0.0</td>\n",
       "      <td>0.0</td>\n",
       "      <td>0.0</td>\n",
       "      <td>0.0</td>\n",
       "    </tr>\n",
       "    <tr>\n",
       "      <th>2</th>\n",
       "      <td>0.0</td>\n",
       "      <td>0.0</td>\n",
       "      <td>0.0</td>\n",
       "      <td>0.0</td>\n",
       "      <td>0.0</td>\n",
       "      <td>0.0</td>\n",
       "      <td>0.0</td>\n",
       "      <td>0.0</td>\n",
       "      <td>0.0</td>\n",
       "      <td>0.0</td>\n",
       "      <td>...</td>\n",
       "      <td>0.0</td>\n",
       "      <td>0.0</td>\n",
       "      <td>0.0</td>\n",
       "      <td>0.0</td>\n",
       "      <td>0.0</td>\n",
       "      <td>0.0</td>\n",
       "      <td>0.0</td>\n",
       "      <td>0.0</td>\n",
       "      <td>0.0</td>\n",
       "      <td>0.0</td>\n",
       "    </tr>\n",
       "    <tr>\n",
       "      <th>3</th>\n",
       "      <td>0.0</td>\n",
       "      <td>0.0</td>\n",
       "      <td>0.0</td>\n",
       "      <td>0.0</td>\n",
       "      <td>0.0</td>\n",
       "      <td>0.0</td>\n",
       "      <td>0.0</td>\n",
       "      <td>0.0</td>\n",
       "      <td>0.0</td>\n",
       "      <td>0.0</td>\n",
       "      <td>...</td>\n",
       "      <td>0.0</td>\n",
       "      <td>0.0</td>\n",
       "      <td>0.0</td>\n",
       "      <td>0.0</td>\n",
       "      <td>0.0</td>\n",
       "      <td>0.0</td>\n",
       "      <td>0.0</td>\n",
       "      <td>0.0</td>\n",
       "      <td>0.0</td>\n",
       "      <td>0.0</td>\n",
       "    </tr>\n",
       "    <tr>\n",
       "      <th>4</th>\n",
       "      <td>0.0</td>\n",
       "      <td>0.0</td>\n",
       "      <td>0.0</td>\n",
       "      <td>0.0</td>\n",
       "      <td>0.0</td>\n",
       "      <td>0.0</td>\n",
       "      <td>0.0</td>\n",
       "      <td>0.0</td>\n",
       "      <td>0.0</td>\n",
       "      <td>0.0</td>\n",
       "      <td>...</td>\n",
       "      <td>0.0</td>\n",
       "      <td>0.0</td>\n",
       "      <td>0.0</td>\n",
       "      <td>0.0</td>\n",
       "      <td>0.0</td>\n",
       "      <td>0.0</td>\n",
       "      <td>0.0</td>\n",
       "      <td>0.0</td>\n",
       "      <td>0.0</td>\n",
       "      <td>0.0</td>\n",
       "    </tr>\n",
       "    <tr>\n",
       "      <th>...</th>\n",
       "      <td>...</td>\n",
       "      <td>...</td>\n",
       "      <td>...</td>\n",
       "      <td>...</td>\n",
       "      <td>...</td>\n",
       "      <td>...</td>\n",
       "      <td>...</td>\n",
       "      <td>...</td>\n",
       "      <td>...</td>\n",
       "      <td>...</td>\n",
       "      <td>...</td>\n",
       "      <td>...</td>\n",
       "      <td>...</td>\n",
       "      <td>...</td>\n",
       "      <td>...</td>\n",
       "      <td>...</td>\n",
       "      <td>...</td>\n",
       "      <td>...</td>\n",
       "      <td>...</td>\n",
       "      <td>...</td>\n",
       "      <td>...</td>\n",
       "    </tr>\n",
       "    <tr>\n",
       "      <th>16358</th>\n",
       "      <td>0.0</td>\n",
       "      <td>0.0</td>\n",
       "      <td>0.0</td>\n",
       "      <td>0.0</td>\n",
       "      <td>0.0</td>\n",
       "      <td>0.0</td>\n",
       "      <td>0.0</td>\n",
       "      <td>0.0</td>\n",
       "      <td>0.0</td>\n",
       "      <td>0.0</td>\n",
       "      <td>...</td>\n",
       "      <td>0.0</td>\n",
       "      <td>0.0</td>\n",
       "      <td>0.0</td>\n",
       "      <td>0.0</td>\n",
       "      <td>0.0</td>\n",
       "      <td>0.0</td>\n",
       "      <td>0.0</td>\n",
       "      <td>0.0</td>\n",
       "      <td>0.0</td>\n",
       "      <td>0.0</td>\n",
       "    </tr>\n",
       "    <tr>\n",
       "      <th>16359</th>\n",
       "      <td>0.0</td>\n",
       "      <td>0.0</td>\n",
       "      <td>0.0</td>\n",
       "      <td>0.0</td>\n",
       "      <td>0.0</td>\n",
       "      <td>0.0</td>\n",
       "      <td>0.0</td>\n",
       "      <td>0.0</td>\n",
       "      <td>0.0</td>\n",
       "      <td>0.0</td>\n",
       "      <td>...</td>\n",
       "      <td>0.0</td>\n",
       "      <td>0.0</td>\n",
       "      <td>0.0</td>\n",
       "      <td>1.0</td>\n",
       "      <td>0.0</td>\n",
       "      <td>0.0</td>\n",
       "      <td>0.0</td>\n",
       "      <td>0.0</td>\n",
       "      <td>0.0</td>\n",
       "      <td>0.0</td>\n",
       "    </tr>\n",
       "    <tr>\n",
       "      <th>16360</th>\n",
       "      <td>0.0</td>\n",
       "      <td>0.0</td>\n",
       "      <td>0.0</td>\n",
       "      <td>0.0</td>\n",
       "      <td>0.0</td>\n",
       "      <td>0.0</td>\n",
       "      <td>0.0</td>\n",
       "      <td>0.0</td>\n",
       "      <td>0.0</td>\n",
       "      <td>0.0</td>\n",
       "      <td>...</td>\n",
       "      <td>0.0</td>\n",
       "      <td>0.0</td>\n",
       "      <td>0.0</td>\n",
       "      <td>0.0</td>\n",
       "      <td>0.0</td>\n",
       "      <td>0.0</td>\n",
       "      <td>0.0</td>\n",
       "      <td>0.0</td>\n",
       "      <td>0.0</td>\n",
       "      <td>0.0</td>\n",
       "    </tr>\n",
       "    <tr>\n",
       "      <th>16361</th>\n",
       "      <td>0.0</td>\n",
       "      <td>0.0</td>\n",
       "      <td>0.0</td>\n",
       "      <td>0.0</td>\n",
       "      <td>1.0</td>\n",
       "      <td>0.0</td>\n",
       "      <td>0.0</td>\n",
       "      <td>0.0</td>\n",
       "      <td>0.0</td>\n",
       "      <td>0.0</td>\n",
       "      <td>...</td>\n",
       "      <td>0.0</td>\n",
       "      <td>0.0</td>\n",
       "      <td>0.0</td>\n",
       "      <td>0.0</td>\n",
       "      <td>0.0</td>\n",
       "      <td>0.0</td>\n",
       "      <td>0.0</td>\n",
       "      <td>0.0</td>\n",
       "      <td>0.0</td>\n",
       "      <td>0.0</td>\n",
       "    </tr>\n",
       "    <tr>\n",
       "      <th>16362</th>\n",
       "      <td>0.0</td>\n",
       "      <td>0.0</td>\n",
       "      <td>0.0</td>\n",
       "      <td>0.0</td>\n",
       "      <td>0.0</td>\n",
       "      <td>0.0</td>\n",
       "      <td>0.0</td>\n",
       "      <td>0.0</td>\n",
       "      <td>0.0</td>\n",
       "      <td>0.0</td>\n",
       "      <td>...</td>\n",
       "      <td>0.0</td>\n",
       "      <td>0.0</td>\n",
       "      <td>0.0</td>\n",
       "      <td>0.0</td>\n",
       "      <td>0.0</td>\n",
       "      <td>0.0</td>\n",
       "      <td>0.0</td>\n",
       "      <td>0.0</td>\n",
       "      <td>0.0</td>\n",
       "      <td>0.0</td>\n",
       "    </tr>\n",
       "  </tbody>\n",
       "</table>\n",
       "<p>16363 rows × 25 columns</p>\n",
       "</div>"
      ],
      "text/plain": [
       "       day  feel  get   go  good  got  great  happi  hope   im  ...  mother  \\\n",
       "0      0.0   0.0  0.0  0.0   0.0  0.0    0.0    0.0   0.0  0.0  ...     0.0   \n",
       "1      0.0   0.0  0.0  0.0   0.0  0.0    0.0    0.0   0.0  0.0  ...     0.0   \n",
       "2      0.0   0.0  0.0  0.0   0.0  0.0    0.0    0.0   0.0  0.0  ...     0.0   \n",
       "3      0.0   0.0  0.0  0.0   0.0  0.0    0.0    0.0   0.0  0.0  ...     0.0   \n",
       "4      0.0   0.0  0.0  0.0   0.0  0.0    0.0    0.0   0.0  0.0  ...     0.0   \n",
       "...    ...   ...  ...  ...   ...  ...    ...    ...   ...  ...  ...     ...   \n",
       "16358  0.0   0.0  0.0  0.0   0.0  0.0    0.0    0.0   0.0  0.0  ...     0.0   \n",
       "16359  0.0   0.0  0.0  0.0   0.0  0.0    0.0    0.0   0.0  0.0  ...     0.0   \n",
       "16360  0.0   0.0  0.0  0.0   0.0  0.0    0.0    0.0   0.0  0.0  ...     0.0   \n",
       "16361  0.0   0.0  0.0  0.0   1.0  0.0    0.0    0.0   0.0  0.0  ...     0.0   \n",
       "16362  0.0   0.0  0.0  0.0   0.0  0.0    0.0    0.0   0.0  0.0  ...     0.0   \n",
       "\n",
       "       one  realli  see  thank  think  time  today  want  work  \n",
       "0      0.0     0.0  0.0    0.0    0.0   0.0    0.0   0.0   0.0  \n",
       "1      0.0     0.0  0.0    0.0    0.0   0.0    0.0   0.0   0.0  \n",
       "2      0.0     0.0  0.0    0.0    0.0   0.0    0.0   0.0   0.0  \n",
       "3      0.0     0.0  0.0    0.0    0.0   0.0    0.0   0.0   0.0  \n",
       "4      0.0     0.0  0.0    0.0    0.0   0.0    0.0   0.0   0.0  \n",
       "...    ...     ...  ...    ...    ...   ...    ...   ...   ...  \n",
       "16358  0.0     0.0  0.0    0.0    0.0   0.0    0.0   0.0   0.0  \n",
       "16359  0.0     0.0  1.0    0.0    0.0   0.0    0.0   0.0   0.0  \n",
       "16360  0.0     0.0  0.0    0.0    0.0   0.0    0.0   0.0   0.0  \n",
       "16361  0.0     0.0  0.0    0.0    0.0   0.0    0.0   0.0   0.0  \n",
       "16362  0.0     0.0  0.0    0.0    0.0   0.0    0.0   0.0   0.0  \n",
       "\n",
       "[16363 rows x 25 columns]"
      ]
     },
     "execution_count": 118,
     "metadata": {},
     "output_type": "execute_result"
    }
   ],
   "source": [
    "pd.DataFrame(tfidf_vec.toarray(), columns = vectorizer.get_feature_names_out())"
   ]
  },
  {
   "cell_type": "markdown",
   "id": "a8a28ba3",
   "metadata": {},
   "source": [
    "we can see it converted it to **16363 rows × 25 columns** where 25 is the number of features it selected based on max_df=0.9, min_df=0.03 we supplied , ther are various hyperparameters in in TfidfVectorizer you can exprement with.\n",
    "\n",
    "Lets replace the sentiment lavel with 1 and 0"
   ]
  },
  {
   "cell_type": "code",
   "execution_count": 119,
   "id": "ce4d7e41",
   "metadata": {},
   "outputs": [],
   "source": [
    "train_df['sentiment'].replace(['negative', 'positive'],[0, 1], inplace=True)"
   ]
  },
  {
   "cell_type": "code",
   "execution_count": 120,
   "id": "4758874c",
   "metadata": {},
   "outputs": [
    {
     "data": {
      "text/html": [
       "<div>\n",
       "<style scoped>\n",
       "    .dataframe tbody tr th:only-of-type {\n",
       "        vertical-align: middle;\n",
       "    }\n",
       "\n",
       "    .dataframe tbody tr th {\n",
       "        vertical-align: top;\n",
       "    }\n",
       "\n",
       "    .dataframe thead th {\n",
       "        text-align: right;\n",
       "    }\n",
       "</style>\n",
       "<table border=\"1\" class=\"dataframe\">\n",
       "  <thead>\n",
       "    <tr style=\"text-align: right;\">\n",
       "      <th></th>\n",
       "      <th>text</th>\n",
       "      <th>sentiment</th>\n",
       "    </tr>\n",
       "  </thead>\n",
       "  <tbody>\n",
       "    <tr>\n",
       "      <th>0</th>\n",
       "      <td>sooo sad miss san diego</td>\n",
       "      <td>0</td>\n",
       "    </tr>\n",
       "    <tr>\n",
       "      <th>1</th>\n",
       "      <td>boss bulli</td>\n",
       "      <td>0</td>\n",
       "    </tr>\n",
       "    <tr>\n",
       "      <th>2</th>\n",
       "      <td>interview leav alon</td>\n",
       "      <td>0</td>\n",
       "    </tr>\n",
       "    <tr>\n",
       "      <th>3</th>\n",
       "      <td>son put releas alreadi bought</td>\n",
       "      <td>0</td>\n",
       "    </tr>\n",
       "    <tr>\n",
       "      <th>4</th>\n",
       "      <td>feed babi fun smile coo</td>\n",
       "      <td>1</td>\n",
       "    </tr>\n",
       "  </tbody>\n",
       "</table>\n",
       "</div>"
      ],
      "text/plain": [
       "                            text  sentiment\n",
       "0        sooo sad miss san diego          0\n",
       "1                     boss bulli          0\n",
       "2            interview leav alon          0\n",
       "3  son put releas alreadi bought          0\n",
       "4        feed babi fun smile coo          1"
      ]
     },
     "execution_count": 120,
     "metadata": {},
     "output_type": "execute_result"
    }
   ],
   "source": [
    "train_df.head()"
   ]
  },
  {
   "cell_type": "code",
   "execution_count": 121,
   "id": "3f545250",
   "metadata": {},
   "outputs": [],
   "source": [
    "from sklearn.naive_bayes import MultinomialNB\n",
    "from sklearn.metrics import confusion_matrix\n",
    "from sklearn.metrics import classification_report"
   ]
  },
  {
   "cell_type": "code",
   "execution_count": 122,
   "id": "32053a51",
   "metadata": {},
   "outputs": [],
   "source": [
    "# Learn the vocab from train data and transforem\n",
    "X_train = vectorizer.fit_transform(train_df['text'])\n",
    "Y_train = train_df['sentiment'].values"
   ]
  },
  {
   "cell_type": "code",
   "execution_count": 123,
   "id": "92d51d35",
   "metadata": {},
   "outputs": [],
   "source": [
    "# Load Test Data and do the same preprocessing done for train data\n",
    "df_test = pd.read_csv('test.csv')"
   ]
  },
  {
   "cell_type": "code",
   "execution_count": 124,
   "id": "b78f70ab",
   "metadata": {},
   "outputs": [],
   "source": [
    "df_test['text'] = df_test.apply(preprocess_tweet, axis=1)\n",
    "df_test['text'] = df_test['text'].str.lower().str.replace('[^\\w\\s]',' ').str.replace('\\s\\s+', ' ')\n",
    "df_test['text'] = df_test['text'].apply(custom_preprocess)\n",
    "df_test['sentiment'].replace(['negative', 'positive'],[0, 1], inplace=True)"
   ]
  },
  {
   "cell_type": "code",
   "execution_count": 125,
   "id": "6cb8598b",
   "metadata": {},
   "outputs": [],
   "source": [
    "# Transform test data based on vecod learnt in train data\n",
    "X_test = vectorizer.transform(df_test['text'])\n",
    "Y_test = df_test['sentiment'].values"
   ]
  },
  {
   "cell_type": "code",
   "execution_count": 126,
   "id": "cd27dc73",
   "metadata": {},
   "outputs": [
    {
     "name": "stdout",
     "output_type": "stream",
     "text": [
      "Classification report:-\n",
      "\n",
      "               precision    recall  f1-score   support\n",
      "\n",
      "           0       0.69      0.48      0.57      1001\n",
      "           1       0.63      0.80      0.71      1103\n",
      "\n",
      "    accuracy                           0.65      2104\n",
      "   macro avg       0.66      0.64      0.64      2104\n",
      "weighted avg       0.66      0.65      0.64      2104\n",
      " \n",
      "\n"
     ]
    }
   ],
   "source": [
    "mnb = MultinomialNB()\n",
    "model_mnb = mnb.fit(X_train,Y_train)\n",
    "X_test_pred_mnb = model_mnb.predict(X_test)\n",
    "print(\"Classification report:-\\n\\n\",classification_report(Y_test,X_test_pred_mnb),\"\\n\")"
   ]
  },
  {
   "cell_type": "markdown",
   "id": "181afa4e",
   "metadata": {},
   "source": [
    "We can see the accuracy on test data is 65% which is way less than a simple rule based system, lets change few some parameterand check."
   ]
  },
  {
   "cell_type": "code",
   "execution_count": 127,
   "id": "540dcc63",
   "metadata": {},
   "outputs": [
    {
     "name": "stdout",
     "output_type": "stream",
     "text": [
      "Classification report:-\n",
      "\n",
      "               precision    recall  f1-score   support\n",
      "\n",
      "           0       0.79      0.68      0.73      1001\n",
      "           1       0.74      0.84      0.79      1103\n",
      "\n",
      "    accuracy                           0.76      2104\n",
      "   macro avg       0.77      0.76      0.76      2104\n",
      "weighted avg       0.77      0.76      0.76      2104\n",
      " \n",
      "\n"
     ]
    }
   ],
   "source": [
    "vectorizer = TfidfVectorizer(max_features=100)\n",
    "X_train = vectorizer.fit_transform(train_df['text'])\n",
    "Y_train = train_df['sentiment'].values\n",
    "X_test = vectorizer.transform(df_test['text'])\n",
    "Y_test = df_test['sentiment'].values\n",
    "mnb = MultinomialNB()\n",
    "model_mnb = mnb.fit(X_train,Y_train)\n",
    "X_test_pred_mnb = model_mnb.predict(X_test)\n",
    "print(\"Classification report:-\\n\\n\",classification_report(Y_test,X_test_pred_mnb),\"\\n\")"
   ]
  },
  {
   "cell_type": "markdown",
   "id": "6f668541",
   "metadata": {},
   "source": [
    "We can see the accuracy jumped to 76% by changing max_features=100 , which means it has created a matrix of **16363 rows × 100 columns** where 100 is the number of features. i will let you play around the features , preprocessing , and other hyperparameters. Let you think about bias, over fitting, corss-validation and other concepts you have learnt in **path setter link**\n",
    "\n",
    "I will also encourage you to explore other Lexical Processing like concepts\t\t\n",
    "1. Canonicalisation\n",
    "2. Phonetic Hashing\n",
    "3. Edit Distance\n",
    "4. Spell Corrector\n",
    "5. Pointwise Mutual Information\n",
    "\n",
    "I will touch about concepts that we will use in this note book other cpncepts are left for further reading, this is done concesiously to keep the tutorail pravtical rather than theoritical."
   ]
  },
  {
   "cell_type": "markdown",
   "id": "fd16fa2e",
   "metadata": {},
   "source": [
    "### ERA 2"
   ]
  },
  {
   "cell_type": "markdown",
   "id": "363c7782",
   "metadata": {},
   "source": [
    "In the previous they tried to represent text in numerica form using stastical methods , word frequency etc where order of the word was not considered, this did not give machines the power to understand meaning of words. The wese a brod field of NLP called **Syntatic Processing** where text parsers were built to take word order into account like part-of-speech tagging , dependency parsing i encourage you to read about parsing.\n",
    "\n",
    "I will dive into Semantics of Text , Semantic processing is about understanding the meaning of a given piece of text.what dose that mean.\n",
    "\n",
    "lets take up a sentence \"pakistan was batteling hard to win against india, finally lost by 4 wickets\". we understand the text is about cricket even tough the word cricket is not present , the word wickets gives a context about the sentence. we need to teaching machines to process text in similar way.\n",
    "\n",
    "DIAGRAM lexical -> syntatic -> semantic\n",
    "DIAGRAM of entities - entity tyoes - concepts\n",
    "I order to answer questions like \"what dose Siamese eat\" it should understand that its a cat breed , carnivorus etc.\n",
    "\n",
    "Read about Arity and Renification\n",
    "\n",
    "In order to understand the meaning to give better answers companies u=built knowledge graphs\n",
    "https://schema.org/docs/gs.html\n",
    "https://schema.org/docs/financial.html\n",
    "\n",
    "Assositating symantic to a word is very difficult and completely depends on the context , some of the kind of relationshisp built are \n",
    "\n",
    "Synonyms : Words that have a similar meaning \n",
    "Antonyms : Words that are opposite in meaning\n",
    "Hypernyms and hyponyms : generic term is hypernym , specific instance of hypernym is hyponym , vehical-> bus \n",
    "Homonymy and polysemy : Words having different meanings but the same spelling , bank , bark\n",
    "\n",
    "There are many more relations like this . In order to achive this nlp community started building database like WordNet and ConceptNet which stores rich relationships between words , concepts\n"
   ]
  },
  {
   "cell_type": "markdown",
   "id": "c1d9b43c",
   "metadata": {},
   "source": [
    "Distributional Semantics : Distributional semantics is the dominant and to this day most successful approach to semantics in computational linguistics.  John Firth had said ‘You shall know a word by the company it keeps’. the basic idea to quantify the similarity is words which occur in similar contexts are similar to each other."
   ]
  },
  {
   "cell_type": "markdown",
   "id": "0d49935e",
   "metadata": {},
   "source": [
    "The end goal is to represent words in numeric form which we call as a vector , and make sure that vector encompases the meaning of the word.\n",
    "\n",
    "There was various tequnics that were applied (read through the below methods)\n",
    "1. The term-occurrence context matrix \n",
    "2. The term-term context matrix \n",
    "\n",
    "Example of term-term context matrix below\n",
    "\n",
    "Conside the below snippet of sentences\n",
    "\n",
    "the pizzeria for a while, drinking a beer at a table\n",
    "hell, I'd meet you, drink a glass of beer\n",
    "books, she changes her dress, drank a glass of cold water\n",
    "men picked up their beers sipped the and put them back\n",
    "to trust his intution she sipped from the champange glass\n",
    "foos itself . even when he shipped his cold beer\n",
    "\n",
    "the co-occurrence matrix for 'drink' and 'sip' based on the above sentences in a five-word context window (i.e., five words to the left and five words to the right). is as below\n",
    "\n",
    "| | beer| book|\tchampagne|\tchange|\tcold| dress| food |\tglass |\thell | intuition | man | meet |\tpick | pizzeria | put |\ttable |\ttrust |\twater |\twhile |\n",
    "| --- | --- | --- | --- | --- | --- |--- | --- |--- | --- |--- | --- |--- | --- |--- | --- |--- | --- |--- | --- |\n",
    "Drink| 2\t|1\t|0\t|1\t|1\t|1\t|0\t|2\t|1\t|0\t|0\t|1\t|0\t|1\t|0\t|1\t|0\t|1 |1 |\n",
    "Sip\t | 2\t|0\t|1\t|0\t|1\t|0\t|1\t|1\t|0\t|1\t|1\t|0\t|1\t|0\t|1\t|0\t|1\t|0 |0 |\n",
    "\n",
    "\n",
    "Although the sample size is small and not sufficient to draw strong conclusions about the meaning of \"sip\" and \"drink\" based on their distribution, some basic patterns are already apparent. Both words are frequently associated with beverage names such as beer, champagne, and water, as well as other terms related to drinking and dining like food, glass, pizzeria, and table. Three collocates are shared by both verbs: beer, cold, and glass. If a larger sample were available, it is likely that more shared collocates of this type would emerge, while other cells would remain largely empty. This example demonstrates how a word's distribution can reveal certain aspects of its meaning.\n",
    "\n",
    "\n",
    "these methods had many short commings some of which are\n",
    "1. proper meaning of polysemic words are not captured\n",
    "2. Matrix will be larger and sparse (rows as the size of the vocabulary, and most cells will have the value 0)\n",
    "\n",
    "As you might have observed, the frequency and co-occurrence matrices possess extensive dimensions, equivalent to the size of the vocabulary V. This poses a significant challenge since manipulating such enormous matrices renders them almost unfeasible for practical purposes.\n",
    "The objective of word embeddings is precisely to provide a condensed, low-dimensional variant of the co-occurrence matrices.\n",
    "\n",
    "Some of the approches to generate Word embeddings are:\n",
    "\n",
    "1. Frequency-based approach: Reducing the term-document matrix using a dimensionality reduction technique such as SVD\n",
    "2. Prediction based approach: The embeddings are learned by a neural network that is relatively simple, and its primary purpose is to forecast the output words based on the input words.\n",
    "\n",
    "I encourage to read about these approches. Lets look at how to use word2vec in python\n"
   ]
  },
  {
   "cell_type": "markdown",
   "id": "e1521e40",
   "metadata": {},
   "source": [
    "The representation of words has been a longstanding task in natural language processing (NLP).The main underlying principle is known for decades, as explained by Firth (1957). This principle was based on the idea that the meaning of aword can be understood by its surrounding company (i.e., the words in its context). "
   ]
  },
  {
   "cell_type": "markdown",
   "id": "a6e18b67",
   "metadata": {},
   "source": [
    "#### 2001 \n",
    "with the introduction of the first neural language model. This is one of the first times a neural network, a deep learning network, was used to predict future words in a sentence, using a feed forward neural network. That predicting future words in a sentence,ia a concept that come up a lot in language modeling.\n",
    "read about https://proceedings.neurips.cc/paper/2000/hash/728f206c2a01bf572b5940d7d9a8fa4c-Abstract.html"
   ]
  },
  {
   "cell_type": "markdown",
   "id": "80d4f707",
   "metadata": {},
   "source": [
    "#### 2013\n",
    "WordEmbeddings , main inovation is pretraining word embeddings on large unlablled corpus.please read about **skip-gram and CBOW**"
   ]
  },
  {
   "cell_type": "code",
   "execution_count": 128,
   "id": "8c93b9d9",
   "metadata": {},
   "outputs": [],
   "source": [
    "import nltk\n",
    "from gensim.models import word2vec\n",
    "from gensim.models.word2vec import Word2Vec"
   ]
  },
  {
   "cell_type": "markdown",
   "id": "f525a7c1",
   "metadata": {},
   "source": [
    "Train Word2Vec on Sentences"
   ]
  },
  {
   "cell_type": "code",
   "execution_count": 131,
   "id": "737a61bb",
   "metadata": {},
   "outputs": [
    {
     "data": {
      "text/plain": [
       "[['I', 'like', 'apples'], ['apples', 'good', 'for', 'health']]"
      ]
     },
     "execution_count": 131,
     "metadata": {},
     "output_type": "execute_result"
    }
   ],
   "source": [
    "corpus  = [\"I like apples\",\n",
    "               \"apples good for health\",\n",
    "               \"apples are green in colour\",\n",
    "               \"green apple is grown in india\",\n",
    "               \"most apples are red\"\n",
    "]\n",
    "tokens = [sent.split() for sent in corpus]\n",
    "tokens[:2]"
   ]
  },
  {
   "cell_type": "code",
   "execution_count": 133,
   "id": "7a3a9022",
   "metadata": {},
   "outputs": [],
   "source": [
    "## https://radimrehurek.com/gensim/models/word2vec.html check out all the parametets here\n",
    "## we are using defaults\n",
    "model = Word2Vec(tokens,min_count=1)"
   ]
  },
  {
   "cell_type": "code",
   "execution_count": 134,
   "id": "2da8e4a8",
   "metadata": {},
   "outputs": [
    {
     "data": {
      "text/plain": [
       "array([-5.3622725e-04,  2.3643136e-04,  5.1033497e-03,  9.0092728e-03,\n",
       "       -9.3029495e-03, -7.1168090e-03,  6.4588725e-03,  8.9729885e-03,\n",
       "       -5.0154282e-03, -3.7633716e-03,  7.3805046e-03, -1.5334714e-03,\n",
       "       -4.5366134e-03,  6.5540518e-03, -4.8601604e-03, -1.8160177e-03,\n",
       "        2.8765798e-03,  9.9187379e-04, -8.2852151e-03, -9.4488179e-03,\n",
       "        7.3117660e-03,  5.0702621e-03,  6.7576934e-03,  7.6286553e-04,\n",
       "        6.3508903e-03, -3.4053659e-03, -9.4640139e-04,  5.7685734e-03,\n",
       "       -7.5216377e-03, -3.9361035e-03, -7.5115822e-03, -9.3004224e-04,\n",
       "        9.5381187e-03, -7.3191668e-03, -2.3337686e-03, -1.9377411e-03,\n",
       "        8.0774371e-03, -5.9308959e-03,  4.5162440e-05, -4.7537340e-03,\n",
       "       -9.6035507e-03,  5.0072931e-03, -8.7595852e-03, -4.3918253e-03,\n",
       "       -3.5099984e-05, -2.9618145e-04, -7.6612402e-03,  9.6147433e-03,\n",
       "        4.9820580e-03,  9.2331432e-03, -8.1579173e-03,  4.4957981e-03,\n",
       "       -4.1370760e-03,  8.2453608e-04,  8.4986202e-03, -4.4621765e-03,\n",
       "        4.5175003e-03, -6.7869602e-03, -3.5484887e-03,  9.3985079e-03,\n",
       "       -1.5776526e-03,  3.2137157e-04, -4.1406299e-03, -7.6826881e-03,\n",
       "       -1.5080082e-03,  2.4697948e-03, -8.8802696e-04,  5.5336617e-03,\n",
       "       -2.7429771e-03,  2.2600652e-03,  5.4557943e-03,  8.3459532e-03,\n",
       "       -1.4537406e-03, -9.2081428e-03,  4.3705525e-03,  5.7178497e-04,\n",
       "        7.4419081e-03, -8.1328274e-04, -2.6384138e-03, -8.7530091e-03,\n",
       "       -8.5655687e-04,  2.8265631e-03,  5.4014288e-03,  7.0526563e-03,\n",
       "       -5.7031214e-03,  1.8588197e-03,  6.0888636e-03, -4.7980510e-03,\n",
       "       -3.1072604e-03,  6.7976294e-03,  1.6314756e-03,  1.8991709e-04,\n",
       "        3.4736372e-03,  2.1777749e-04,  9.6188262e-03,  5.0606038e-03,\n",
       "       -8.9173904e-03, -7.0415605e-03,  9.0145587e-04,  6.3925339e-03],\n",
       "      dtype=float32)"
      ]
     },
     "execution_count": 134,
     "metadata": {},
     "output_type": "execute_result"
    }
   ],
   "source": [
    "model.wv['apples']"
   ]
  },
  {
   "cell_type": "code",
   "execution_count": 135,
   "id": "da4fc2df",
   "metadata": {},
   "outputs": [
    {
     "data": {
      "text/plain": [
       "[('apple', 0.21617458760738373),\n",
       " ('for', 0.09310111403465271),\n",
       " ('grown', 0.09291722625494003),\n",
       " ('health', 0.07963486760854721),\n",
       " ('colour', 0.06285078823566437)]"
      ]
     },
     "execution_count": 135,
     "metadata": {},
     "output_type": "execute_result"
    }
   ],
   "source": [
    "#Similarity between word vectors is measures using Cosine similarity\n",
    "model.wv.most_similar(\"apples\",topn=5)"
   ]
  },
  {
   "cell_type": "code",
   "execution_count": 203,
   "id": "111dbd27",
   "metadata": {},
   "outputs": [],
   "source": [
    "#Lets train a big corpus , this ia cleaned wikipedia corpus , download link http://mattmahoney.net/dc/text8.zip\n",
    "sentences = word2vec.Text8Corpus('text8')"
   ]
  },
  {
   "cell_type": "code",
   "execution_count": 204,
   "id": "7fe2beb2",
   "metadata": {},
   "outputs": [
    {
     "name": "stdout",
     "output_type": "stream",
     "text": [
      "<gensim.models.word2vec.Text8Corpus object at 0x1473eaa70>\n"
     ]
    }
   ],
   "source": [
    "print(sentences)"
   ]
  },
  {
   "cell_type": "code",
   "execution_count": 205,
   "id": "fa80b26a",
   "metadata": {},
   "outputs": [],
   "source": [
    "model = Word2Vec(sentences)"
   ]
  },
  {
   "cell_type": "code",
   "execution_count": 143,
   "id": "91cb9fe8",
   "metadata": {},
   "outputs": [
    {
     "data": {
      "text/plain": [
       "[('prince', 0.7457886338233948),\n",
       " ('throne', 0.7134958505630493),\n",
       " ('queen', 0.7117762565612793),\n",
       " ('emperor', 0.7086041569709778),\n",
       " ('kings', 0.6862139701843262),\n",
       " ('constantine', 0.659803569316864),\n",
       " ('regent', 0.6584054231643677),\n",
       " ('elector', 0.6578490734100342),\n",
       " ('castile', 0.6571164131164551),\n",
       " ('aragon', 0.6475844383239746)]"
      ]
     },
     "execution_count": 143,
     "metadata": {},
     "output_type": "execute_result"
    }
   ],
   "source": [
    "model.wv.most_similar(\"king\")"
   ]
  },
  {
   "cell_type": "markdown",
   "id": "d92735a3",
   "metadata": {},
   "source": [
    "Neural word embeddings have been proven to contain useful information about concepts and entities, and provide a generalization boost to many NLP applications (Goldberg, 2017). Surprisingly,these representations have also been shown to exhibit linear relationships between words in the vector space, demonstrated by analogy. For example,\n",
    "Mikolov et al. (2013b) showed that a simple operation such as **king-man+woman** will result in a point near queen in the vector space, lets see this example"
   ]
  },
  {
   "cell_type": "code",
   "execution_count": 144,
   "id": "442b2134",
   "metadata": {},
   "outputs": [
    {
     "data": {
      "text/plain": [
       "[('queen', 0.6714180707931519),\n",
       " ('prince', 0.6268436908721924),\n",
       " ('throne', 0.6233434081077576),\n",
       " ('emperor', 0.60627281665802),\n",
       " ('princess', 0.598137617111206)]"
      ]
     },
     "execution_count": 144,
     "metadata": {},
     "output_type": "execute_result"
    }
   ],
   "source": [
    "#### Semantic regularities captured in word embeddings\n",
    "model.wv.most_similar(positive=['woman', 'king'], negative=['man'], topn=5)"
   ]
  },
  {
   "cell_type": "code",
   "execution_count": 145,
   "id": "6ade196a",
   "metadata": {},
   "outputs": [
    {
     "data": {
      "text/plain": [
       "[('heroine', 0.6339489817619324),\n",
       " ('villain', 0.6316521763801575),\n",
       " ('protagonist', 0.6293601393699646),\n",
       " ('heroic', 0.6233524084091187),\n",
       " ('warrior', 0.6177541017532349)]"
      ]
     },
     "execution_count": 145,
     "metadata": {},
     "output_type": "execute_result"
    }
   ],
   "source": [
    "model.wv.most_similar(positive=['woman', 'hero'], negative=['man'], topn=5)"
   ]
  },
  {
   "cell_type": "markdown",
   "id": "66951946",
   "metadata": {},
   "source": [
    "Lets See How to generate embeddings for train and test data , we will also train a simple Nural Network using our pretrained glove embedding"
   ]
  },
  {
   "cell_type": "code",
   "execution_count": 154,
   "id": "cd1406f8",
   "metadata": {},
   "outputs": [],
   "source": [
    "#lets first see to generate embedding for a data in data frame fro this we will use a samller test data\n",
    "df_test = pd.read_csv('test.csv')\n",
    "df_train = pd.read_csv('train.csv')\n",
    "# run the same preprocessing\n",
    "#preprocess train file\n",
    "df_train['text'] = df_train.apply(preprocess_tweet, axis=1)\n",
    "df_train['text'] = df_train['text'].str.lower().str.replace('[^\\w\\s]',' ').str.replace('\\s\\s+', ' ')\n",
    "df_train['text'] = df_train['text'].apply(custom_preprocess)\n",
    "df_train['sentiment'].replace(['negative', 'positive'],[0, 1], inplace=True)\n",
    "\n",
    "#preprocess test file\n",
    "df_test['text'] = df_test.apply(preprocess_tweet, axis=1)\n",
    "df_test['text'] = df_test['text'].str.lower().str.replace('[^\\w\\s]',' ').str.replace('\\s\\s+', ' ')\n",
    "df_test['text'] = df_test['text'].apply(custom_preprocess)\n",
    "df_test['sentiment'].replace(['negative', 'positive'],[0, 1], inplace=True)\n",
    "\n",
    "# Get vocabulary\n",
    "vectorizer = CountVectorizer()\n",
    "X_train_bow = vectorizer.fit_transform(df_train['text'])\n",
    "X_test_bow = vectorizer.transform(df_test['text'])"
   ]
  },
  {
   "cell_type": "code",
   "execution_count": 153,
   "id": "86cd9c5d",
   "metadata": {},
   "outputs": [],
   "source": [
    "# Lets load a pretrained tweet embedding\n",
    "import gensim.downloader\n",
    "# this is downloaded in ~/gensim-data\n",
    "glove_vectors = gensim.downloader.load('glove-twitter-50')"
   ]
  },
  {
   "cell_type": "code",
   "execution_count": 156,
   "id": "00cef99a",
   "metadata": {},
   "outputs": [],
   "source": [
    "import numpy as np\n",
    "\n",
    "embeddings_dict = {}\n",
    "word_index = vectorizer.vocabulary_\n",
    "num_words = len(word_index)\n",
    "embedding_matrix = np.zeros((num_words, 50))\n",
    "for word, i in word_index.items():\n",
    "    embedding_vector = None\n",
    "    try:\n",
    "        embedding_vector = glove_vectors[word]\n",
    "    except KeyError:\n",
    "        # do nothing\n",
    "        pass\n",
    "    if embedding_vector is not None:\n",
    "        embeddings_dict[word] = embedding_vector\n",
    "        \n",
    "def apply_embedding(df, column_name):\n",
    "    # Tokenize the text in the column\n",
    "    df['tokens'] = df[column_name].apply(word_tokenize)\n",
    "    # Look up the embeddings for each token and average them\n",
    "    df['embedding'] = df['tokens'].apply(lambda x: np.mean([embeddings_dict.get(token, np.zeros(50)) \n",
    "                                                            for token in x], axis=0))\n",
    "    # Drop the 'tokens' column\n",
    "    df.drop('tokens', axis=1, inplace=True)\n",
    "    return df"
   ]
  },
  {
   "cell_type": "code",
   "execution_count": 157,
   "id": "25f06410",
   "metadata": {},
   "outputs": [],
   "source": [
    "df_test = apply_embedding(df_test,'text')"
   ]
  },
  {
   "cell_type": "code",
   "execution_count": 159,
   "id": "d284c5f0",
   "metadata": {},
   "outputs": [
    {
     "data": {
      "text/html": [
       "<div>\n",
       "<style scoped>\n",
       "    .dataframe tbody tr th:only-of-type {\n",
       "        vertical-align: middle;\n",
       "    }\n",
       "\n",
       "    .dataframe tbody tr th {\n",
       "        vertical-align: top;\n",
       "    }\n",
       "\n",
       "    .dataframe thead th {\n",
       "        text-align: right;\n",
       "    }\n",
       "</style>\n",
       "<table border=\"1\" class=\"dataframe\">\n",
       "  <thead>\n",
       "    <tr style=\"text-align: right;\">\n",
       "      <th></th>\n",
       "      <th>text</th>\n",
       "      <th>sentiment</th>\n",
       "      <th>embedding</th>\n",
       "    </tr>\n",
       "  </thead>\n",
       "  <tbody>\n",
       "    <tr>\n",
       "      <th>0</th>\n",
       "      <td>shanghai also realli excit precis skyscrap gal...</td>\n",
       "      <td>1</td>\n",
       "      <td>[0.21830795950760754, 0.2740010761966308, -0.0...</td>\n",
       "    </tr>\n",
       "    <tr>\n",
       "      <th>1</th>\n",
       "      <td>recess hit veroniqu branquinho quit compani shame</td>\n",
       "      <td>0</td>\n",
       "      <td>[0.12479700360979352, 0.31859285277979715, 0.2...</td>\n",
       "    </tr>\n",
       "    <tr>\n",
       "      <th>2</th>\n",
       "      <td>happi bday</td>\n",
       "      <td>1</td>\n",
       "      <td>[-0.694025, 0.654075, 0.2414975, 0.20033601, 0...</td>\n",
       "    </tr>\n",
       "    <tr>\n",
       "      <th>3</th>\n",
       "      <td>like</td>\n",
       "      <td>1</td>\n",
       "      <td>[-0.094661, 0.13413, 0.21436, 0.0081264, 0.046...</td>\n",
       "    </tr>\n",
       "    <tr>\n",
       "      <th>4</th>\n",
       "      <td>great weee visitor</td>\n",
       "      <td>1</td>\n",
       "      <td>[0.061243996, 0.20274101, -0.5060533, -0.31346...</td>\n",
       "    </tr>\n",
       "  </tbody>\n",
       "</table>\n",
       "</div>"
      ],
      "text/plain": [
       "                                                text  sentiment  \\\n",
       "0  shanghai also realli excit precis skyscrap gal...          1   \n",
       "1  recess hit veroniqu branquinho quit compani shame          0   \n",
       "2                                         happi bday          1   \n",
       "3                                               like          1   \n",
       "4                                 great weee visitor          1   \n",
       "\n",
       "                                           embedding  \n",
       "0  [0.21830795950760754, 0.2740010761966308, -0.0...  \n",
       "1  [0.12479700360979352, 0.31859285277979715, 0.2...  \n",
       "2  [-0.694025, 0.654075, 0.2414975, 0.20033601, 0...  \n",
       "3  [-0.094661, 0.13413, 0.21436, 0.0081264, 0.046...  \n",
       "4  [0.061243996, 0.20274101, -0.5060533, -0.31346...  "
      ]
     },
     "execution_count": 159,
     "metadata": {},
     "output_type": "execute_result"
    }
   ],
   "source": [
    "df_test.head()"
   ]
  },
  {
   "cell_type": "markdown",
   "id": "5e94a051",
   "metadata": {},
   "source": [
    "When data is trained from large scale corpora like these they started to notice Bias. Mainly two kind of bias\n",
    "\n",
    "**Direct Bias**: Tearms like \"foot ball\" are loser to male and \"nurse\" are closer to female.\n",
    "**InDirect Bias**: The reason why \"teacher\" is more closely associated with \"volleyball\" than \"football\" in the embedding is due to the more subtle correlations present, specifically a stronger association between \"teacher\" and females."
   ]
  },
  {
   "cell_type": "code",
   "execution_count": 211,
   "id": "616543c1",
   "metadata": {},
   "outputs": [
    {
     "name": "stdout",
     "output_type": "stream",
     "text": [
      "0.2740438\n",
      "0.23617189\n"
     ]
    }
   ],
   "source": [
    "print(model.wv.similarity(\"nurse\",\"female\"))\n",
    "print(model.wv.similarity(\"nurse\",\"male\"))"
   ]
  },
  {
   "cell_type": "code",
   "execution_count": 215,
   "id": "df6329c4",
   "metadata": {},
   "outputs": [
    {
     "name": "stdout",
     "output_type": "stream",
     "text": [
      "0.21817592\n",
      "0.20012663\n"
     ]
    }
   ],
   "source": [
    "print(model.wv.similarity(\"teacher\",\"volleyball\"))\n",
    "print(model.wv.similarity(\"teacher\",\"football\"))"
   ]
  },
  {
   "cell_type": "markdown",
   "id": "a0b37616",
   "metadata": {},
   "source": [
    "Lets Build a Simple Nural Network For classifing tweets using Pretrained glove embedding"
   ]
  },
  {
   "cell_type": "code",
   "execution_count": 161,
   "id": "403b3577",
   "metadata": {},
   "outputs": [
    {
     "name": "stderr",
     "output_type": "stream",
     "text": [
      "2023-03-18 16:38:32.309050: I tensorflow/core/platform/cpu_feature_guard.cc:193] This TensorFlow binary is optimized with oneAPI Deep Neural Network Library (oneDNN) to use the following CPU instructions in performance-critical operations:  AVX2 AVX512F AVX512_VNNI FMA\n",
      "To enable them in other operations, rebuild TensorFlow with the appropriate compiler flags.\n"
     ]
    }
   ],
   "source": [
    "import numpy as np\n",
    "from keras.models import Sequential\n",
    "from keras.layers import Dense, Embedding, Flatten,Dropout\n",
    "from keras.preprocessing.text import Tokenizer\n",
    "from keras.utils import pad_sequences\n",
    "from keras.utils import to_categorical\n",
    "\n",
    "# Tokenize the text data\n",
    "tokenizer = Tokenizer(num_words=10000)\n",
    "tokenizer.fit_on_texts(df_train['text'])\n",
    "X_train = tokenizer.texts_to_sequences(df_train['text'])\n",
    "X_train = pad_sequences(X_train, maxlen=50)\n",
    "\n",
    "# Convert the labels to one-hot encoding\n",
    "y_train = to_categorical(df_train['sentiment'])\n",
    "X_test = tokenizer.texts_to_sequences(df_test['text'])\n",
    "X_test = pad_sequences(X_test, maxlen=50)\n",
    "\n",
    "# Convert the labels to one-hot encoding\n",
    "y_test = to_categorical(df_test['sentiment'])"
   ]
  },
  {
   "cell_type": "code",
   "execution_count": 163,
   "id": "fbaefe4a",
   "metadata": {},
   "outputs": [],
   "source": [
    "# Create an embedding matrix for the Keras Embedding layer\n",
    "embedding_dim = 50\n",
    "embedding_matrix = np.zeros((len(tokenizer.word_index) + 1, embedding_dim))\n",
    "for word, i in tokenizer.word_index.items():\n",
    "    try:\n",
    "        embedding_vector = glove_vectors[word]\n",
    "    except KeyError:\n",
    "        # do nothing\n",
    "        pass\n",
    "    if embedding_vector is not None:\n",
    "        embedding_matrix[i] = embedding_vector"
   ]
  },
  {
   "cell_type": "code",
   "execution_count": 164,
   "id": "d9f9ea0a",
   "metadata": {},
   "outputs": [
    {
     "name": "stdout",
     "output_type": "stream",
     "text": [
      "Model: \"sequential_1\"\n",
      "_________________________________________________________________\n",
      " Layer (type)                Output Shape              Param #   \n",
      "=================================================================\n",
      " embedding (Embedding)       (None, 50, 50)            687500    \n",
      "                                                                 \n",
      " flatten (Flatten)           (None, 2500)              0         \n",
      "                                                                 \n",
      " dense (Dense)               (None, 128)               320128    \n",
      "                                                                 \n",
      " dropout (Dropout)           (None, 128)               0         \n",
      "                                                                 \n",
      " dense_1 (Dense)             (None, 2)                 258       \n",
      "                                                                 \n",
      "=================================================================\n",
      "Total params: 1,007,886\n",
      "Trainable params: 320,386\n",
      "Non-trainable params: 687,500\n",
      "_________________________________________________________________\n"
     ]
    }
   ],
   "source": [
    "# Define the Keras model\n",
    "model = Sequential()\n",
    "model.add(Embedding(len(tokenizer.word_index) + 1, embedding_dim, weights=[embedding_matrix],\n",
    "                    input_length=50, trainable=False))\n",
    "model.add(Flatten())\n",
    "model.add(Dense(128, activation='relu'))\n",
    "model.add(Dropout(0.5))\n",
    "model.add(Dense(2, activation='softmax'))\n",
    "\n",
    "# Compile the model\n",
    "model.compile(optimizer='adam', loss='categorical_crossentropy', metrics=['accuracy'])\n",
    "\n",
    "model.summary()"
   ]
  },
  {
   "cell_type": "code",
   "execution_count": 165,
   "id": "1101a034",
   "metadata": {},
   "outputs": [
    {
     "name": "stdout",
     "output_type": "stream",
     "text": [
      "Epoch 1/10\n",
      "512/512 [==============================] - 2s 3ms/step - loss: 0.5150 - accuracy: 0.7486 - val_loss: 0.4260 - val_accuracy: 0.8004\n",
      "Epoch 2/10\n",
      "512/512 [==============================] - 2s 3ms/step - loss: 0.4391 - accuracy: 0.7965 - val_loss: 0.4168 - val_accuracy: 0.8013\n",
      "Epoch 3/10\n",
      "512/512 [==============================] - 2s 3ms/step - loss: 0.4007 - accuracy: 0.8202 - val_loss: 0.4137 - val_accuracy: 0.8066\n",
      "Epoch 4/10\n",
      "512/512 [==============================] - 2s 3ms/step - loss: 0.3637 - accuracy: 0.8404 - val_loss: 0.4161 - val_accuracy: 0.8099\n",
      "Epoch 5/10\n",
      "512/512 [==============================] - 2s 3ms/step - loss: 0.3346 - accuracy: 0.8503 - val_loss: 0.4098 - val_accuracy: 0.8099\n",
      "Epoch 6/10\n",
      "512/512 [==============================] - 2s 3ms/step - loss: 0.3034 - accuracy: 0.8746 - val_loss: 0.4114 - val_accuracy: 0.8042\n",
      "Epoch 7/10\n",
      "512/512 [==============================] - 2s 3ms/step - loss: 0.2793 - accuracy: 0.8843 - val_loss: 0.4292 - val_accuracy: 0.8104\n",
      "Epoch 8/10\n",
      "512/512 [==============================] - 2s 3ms/step - loss: 0.2563 - accuracy: 0.8921 - val_loss: 0.4229 - val_accuracy: 0.8080\n",
      "Epoch 9/10\n",
      "512/512 [==============================] - 2s 3ms/step - loss: 0.2339 - accuracy: 0.9045 - val_loss: 0.4434 - val_accuracy: 0.8061\n",
      "Epoch 10/10\n",
      "512/512 [==============================] - 2s 3ms/step - loss: 0.2203 - accuracy: 0.9108 - val_loss: 0.4436 - val_accuracy: 0.8085\n"
     ]
    },
    {
     "data": {
      "text/plain": [
       "<keras.callbacks.History at 0x13008c3d0>"
      ]
     },
     "execution_count": 165,
     "metadata": {},
     "output_type": "execute_result"
    }
   ],
   "source": [
    "# Train the model\n",
    "model.fit(X_train, y_train, batch_size=32, epochs=10, validation_data=(X_test, y_test))"
   ]
  },
  {
   "cell_type": "code",
   "execution_count": 166,
   "id": "ac74448a",
   "metadata": {},
   "outputs": [
    {
     "name": "stdout",
     "output_type": "stream",
     "text": [
      "Test accuracy: 0.8084600567817688\n"
     ]
    }
   ],
   "source": [
    "# Evaluate the model\n",
    "loss, accuracy = model.evaluate(X_test, y_test, verbose=0)\n",
    "print('Test accuracy:', accuracy)"
   ]
  },
  {
   "cell_type": "markdown",
   "id": "6c4d9602",
   "metadata": {},
   "source": [
    "By Using default parameters we are getting about 80% Accuracy"
   ]
  },
  {
   "cell_type": "markdown",
   "id": "827f77f7",
   "metadata": {},
   "source": [
    "#### RNN and CNN\n",
    "During the same time period, from 2013 to 2014, we witnessed the emergence of recurrent neural networks (RNNs) and convolutional neural networks (CNNs), which are commonly referred to as RNNs and CNNs. Although these architectures were not new to the 21st century, with the first vanilla RNN introduced in 1990 and the Long Short Term Memory network introduced in 1997, it was during this time period that they gained traction for natural language processing tasks due to the publication of a PhD thesis by Ilya Sutskever in 2013."
   ]
  },
  {
   "cell_type": "code",
   "execution_count": 199,
   "id": "f3e157d4",
   "metadata": {},
   "outputs": [
    {
     "name": "stdout",
     "output_type": "stream",
     "text": [
      "Model: \"sequential_10\"\n",
      "_________________________________________________________________\n",
      " Layer (type)                Output Shape              Param #   \n",
      "=================================================================\n",
      " embedding_9 (Embedding)     (None, 50, 50)            687500    \n",
      "                                                                 \n",
      " bidirectional_10 (Bidirecti  (None, 50, 128)          58880     \n",
      " onal)                                                           \n",
      "                                                                 \n",
      " bidirectional_11 (Bidirecti  (None, 64)               41216     \n",
      " onal)                                                           \n",
      "                                                                 \n",
      " dense_9 (Dense)             (None, 2)                 130       \n",
      "                                                                 \n",
      "=================================================================\n",
      "Total params: 787,726\n",
      "Trainable params: 100,226\n",
      "Non-trainable params: 687,500\n",
      "_________________________________________________________________\n"
     ]
    }
   ],
   "source": [
    "# Lets use Bi-LSTM and do tweet classification\n",
    "from keras.layers import Dense, LSTM, Bidirectional\n",
    "\n",
    "model = Sequential()\n",
    "model.add(Embedding(len(tokenizer.word_index) + 1, 50, weights=[embedding_matrix], \n",
    "                    input_length=50, trainable=False))\n",
    "model.add(Bidirectional(LSTM(64, return_sequences=True)))\n",
    "model.add(Bidirectional(LSTM(32)))\n",
    "model.add(Dense(2, activation='softmax'))\n",
    "\n",
    "# Compile the model\n",
    "model.compile(loss='categorical_crossentropy', optimizer='adam', metrics=['accuracy'])\n",
    "\n",
    "model.summary()"
   ]
  },
  {
   "cell_type": "code",
   "execution_count": 200,
   "id": "58c741c9",
   "metadata": {},
   "outputs": [
    {
     "name": "stdout",
     "output_type": "stream",
     "text": [
      "Epoch 1/10\n",
      "512/512 [==============================] - 33s 51ms/step - loss: 0.4486 - accuracy: 0.7894 - val_loss: 0.3732 - val_accuracy: 0.8313\n",
      "Epoch 2/10\n",
      "512/512 [==============================] - 32s 62ms/step - loss: 0.3716 - accuracy: 0.8335 - val_loss: 0.3421 - val_accuracy: 0.8512\n",
      "Epoch 3/10\n",
      "512/512 [==============================] - 33s 64ms/step - loss: 0.3351 - accuracy: 0.8528 - val_loss: 0.3273 - val_accuracy: 0.8598\n",
      "Epoch 4/10\n",
      "512/512 [==============================] - 40s 78ms/step - loss: 0.3117 - accuracy: 0.8676 - val_loss: 0.3216 - val_accuracy: 0.8579\n",
      "Epoch 5/10\n",
      "512/512 [==============================] - 37s 73ms/step - loss: 0.2930 - accuracy: 0.8767 - val_loss: 0.3028 - val_accuracy: 0.8679\n",
      "Epoch 6/10\n",
      "512/512 [==============================] - 37s 72ms/step - loss: 0.2751 - accuracy: 0.8846 - val_loss: 0.2999 - val_accuracy: 0.8636\n",
      "Epoch 7/10\n",
      "512/512 [==============================] - 37s 72ms/step - loss: 0.2521 - accuracy: 0.8960 - val_loss: 0.3051 - val_accuracy: 0.8683\n",
      "Epoch 8/10\n",
      "512/512 [==============================] - 38s 74ms/step - loss: 0.2292 - accuracy: 0.9067 - val_loss: 0.3205 - val_accuracy: 0.8626\n",
      "Epoch 9/10\n",
      "512/512 [==============================] - 38s 75ms/step - loss: 0.2023 - accuracy: 0.9190 - val_loss: 0.3252 - val_accuracy: 0.8645\n",
      "Epoch 10/10\n",
      "512/512 [==============================] - 37s 72ms/step - loss: 0.1797 - accuracy: 0.9290 - val_loss: 0.3287 - val_accuracy: 0.8669\n"
     ]
    },
    {
     "data": {
      "text/plain": [
       "<keras.callbacks.History at 0x145bd2980>"
      ]
     },
     "execution_count": 200,
     "metadata": {},
     "output_type": "execute_result"
    }
   ],
   "source": [
    "# Train the model\n",
    "model.fit(X_train, y_train, validation_data=(X_test, y_test), epochs=10, batch_size=32)"
   ]
  },
  {
   "cell_type": "code",
   "execution_count": 201,
   "id": "4fcdc603",
   "metadata": {},
   "outputs": [
    {
     "name": "stdout",
     "output_type": "stream",
     "text": [
      "Test accuracy: 0.8669201731681824\n"
     ]
    }
   ],
   "source": [
    "# Evaluate the model\n",
    "loss, accuracy = model.evaluate(X_test, y_test, verbose=0)\n",
    "print('Test accuracy:', accuracy)"
   ]
  },
  {
   "cell_type": "markdown",
   "id": "40784356",
   "metadata": {},
   "source": [
    "we can see we have got around 86% accuracy , we have not optimized any hyperparameter , preprocessing or embedding"
   ]
  },
  {
   "cell_type": "markdown",
   "id": "31b84559",
   "metadata": {},
   "source": [
    "After this we started the see the raise of sequence to sequence modeling to handle variable length input and variable lenght output , where a encoder and decoder was usually a RNN, encoder encoded all the information to a fixed lenght state. the deceoder would use this to construct the output, the problem with this is compressing that sequence into a fixed length vector made it hard to remember long term information. So attentions came into picture.In 2017 a paper called \"Attention is all you need\" comes out, introducing the transformer.\n",
    "\n",
    "And because of how well received this research was in 2017, pre-trained language models became a hot topic in natural language processing by 2018. Models like BERT, GPT, and T5, learned general language rules after being pre-trained on enormous corpora."
   ]
  },
  {
   "cell_type": "markdown",
   "id": "d90456da",
   "metadata": {},
   "source": [
    "**Transfer learning** involves reusing a pre-trained model for a second task after it has been trained on a first task. The process involves selecting a source model from a model repository, which is then used as the starting point for training on a second, usually related, task. The benefit of transfer learning is that the knowledge gained from the first task can be transferred to the second task, avoiding the need to start from scratch. In natural language processing, transfer learning involves pre-training a model on an unlabeled text corpus to learn general language and context, and then fine-tuning it on a specific downstream task using a labeled dataset. This approach allows for state-of-the-art results, as the pre-trained model has a deep understanding of natural language that can be transferred to the downstream task with a smaller dataset."
   ]
  },
  {
   "cell_type": "markdown",
   "id": "9a50d4f1",
   "metadata": {},
   "source": [
    "<font color='red'>Transfer Learning.In general, transfer learning is where one model is trained for a task, and then it's reused as the starting point for a second task. The approach is pretty much like this. You select a source model, which is some pre-trained model generally from a repository of models. We've actually already seen this in our code when we were loading up a pre-trained BERT model where we called BERT based uncased, that's a source model. Those all come from a model repository from Hugging Face . Once you select that source model, you then reuse it and train on a second task. That pre-trained model is basically the starting point for a second usually related task, and it's trained on data pertaining to that second task. The idea is, you are taking the learnings from the first task and transferring it to a second task. The benefits here, are you benefit from the overall learning from the first task, you don't have to start over and teach a transformer-based model about general language, because in theory, it should already know generic language rules, you simply need to change it up slightly to train on a downstream task. We'll then take training data for a second task whether it's a question and answering task, a classification task, or a token classification task, and use that training data to update BERT or other transformer models, given some additional layers. So if we're doing a classification task, we'll add on a classification layer on top of a pre-trained BERT. Now, in NLP, the idea of transfer learning is pretty much the same. A model is pre-trained on an unlabeled text corpora on an unsupervised or sometimes considered semi-supervised task that generally doesn't have a useful objective. It's basically just meant to learn language and context in general. And when we get to our different transformer models we'll see that each one of them has a different corpora that it's been trained on, on a different kind of task. After that's been done, the model is then fined-tuned or updated on a specific natural language processing downstream task using a labeled dataset usually. And that labeled data set is generally much smaller in comparison. If the idea, again, is if we simply had trained the model only on the downstream data, which is a little bit smaller, and not done any of the pre-training and tried not to transfer anything over, we would not be able to achieve those state of the art results that were seeking. The idea that these pre-trained language models had so much built in understanding of natural language that we could simply transfer that knowledge over to a relatively simple task with a smaller dataset and not have to worry about training a blank deep learning architecture entirely from scratch.</font>"
   ]
  },
  {
   "cell_type": "markdown",
   "id": "0cc96382",
   "metadata": {},
   "source": [
    "### Raise of Large Language Models (LLM's)\n",
    "\n",
    "In the field of AI, Foundation Models, which are also known as Extremely large models, have been transforming the landscape. Unlike models designed for a specific task, Foundation Models are intended to serve as the basis for a broad range of downstream tasks. Typically, these models are pre-trained on large volumes of unlabelled data and subsequently fine-tuned on a small set of labeled examples from a downstream task. Large Language Models (LLMs), such as GPT-3, are prime examples of Foundation Models. They have demonstrated human-level performance in various tasks and even exceeded it in some cases. ChatGPT, which is a variant of GPT-3, has broken new ground in AI by being capable of performing various tasks with just natural language instructions and conversing with users to correct its output.\n",
    "\n",
    "At the heart of transformer and transformer-based architectures' language learning process are language modeling tasks. These tasks focus on understanding language rules, including how words are used in sentences and how sentences are treated in larger corpora. In a language modeling task, a model is trained to predict a missing word or token in a sequence of words or tokens. Generally speaking, there are two types of language models.\n",
    "\n",
    "1. Auto Encoding - Its goal is to learn representation of entire sequence by predicting tokens give both past and future tokens \n",
    "I like ______, because ______ is a winner\n",
    "GPT Family of models\n",
    "Used in Natural Language Generation\n",
    "\n",
    "2. Auto Regressive - Its goal is to predict a future token give either the past tokens or the future tokens but not both\n",
    "\tI like ______  : pridict future tokens given past tokens\n",
    "\t______ is a winner : pridict past tokens given future tokens\n",
    "BERT Family of models\n",
    "Ued in Natural language Understanding\n"
   ]
  },
  {
   "cell_type": "code",
   "execution_count": 218,
   "id": "bef0ba4e",
   "metadata": {},
   "outputs": [],
   "source": [
    "from transformers import AutoTokenizer, TFAutoModelForSequenceClassification\n",
    "import tensorflow as tf"
   ]
  },
  {
   "cell_type": "code",
   "execution_count": 219,
   "id": "134bd412",
   "metadata": {},
   "outputs": [
    {
     "name": "stderr",
     "output_type": "stream",
     "text": [
      "Downloading (…)okenizer_config.json: 100%|████████████████████████████████████████████████████████████████████████████████████████████████████| 28.0/28.0 [00:00<00:00, 7.29kB/s]\n",
      "Downloading (…)lve/main/config.json: 100%|███████████████████████████████████████████████████████████████████████████████████████████████████████| 570/570 [00:00<00:00, 185kB/s]\n",
      "Downloading (…)solve/main/vocab.txt: 100%|█████████████████████████████████████████████████████████████████████████████████████████████████████| 232k/232k [00:00<00:00, 280kB/s]\n",
      "Downloading (…)/main/tokenizer.json: 100%|█████████████████████████████████████████████████████████████████████████████████████████████████████| 466k/466k [00:01<00:00, 263kB/s]\n",
      "Downloading tf_model.h5: 100%|████████████████████████████████████████████████████████████████████████████████████████████████████████████████| 536M/536M [00:36<00:00, 14.8MB/s]\n",
      "All model checkpoint layers were used when initializing TFBertForSequenceClassification.\n",
      "\n",
      "Some layers of TFBertForSequenceClassification were not initialized from the model checkpoint at bert-base-uncased and are newly initialized: ['classifier']\n",
      "You should probably TRAIN this model on a down-stream task to be able to use it for predictions and inference.\n"
     ]
    }
   ],
   "source": [
    "# Load the tokenizer and model\n",
    "tokenizer = AutoTokenizer.from_pretrained(\"bert-base-uncased\")\n",
    "model = TFAutoModelForSequenceClassification.from_pretrained(\"bert-base-uncased\", num_labels=2)"
   ]
  },
  {
   "cell_type": "code",
   "execution_count": 220,
   "id": "add10d88",
   "metadata": {},
   "outputs": [
    {
     "name": "stdout",
     "output_type": "stream",
     "text": [
      "The sentiment of 'I love this product, it's amazing!' is Positive\n"
     ]
    }
   ],
   "source": [
    "# Define a function to preprocess and tokenize text\n",
    "def preprocess(text):\n",
    "    text = text.lower()\n",
    "    encoded_text = tokenizer(text, padding=True, truncation=True, return_tensors='tf')\n",
    "    return encoded_text\n",
    "\n",
    "# Define a function to predict the sentiment of text\n",
    "def predict_sentiment(text):\n",
    "    encoded_text = preprocess(text)\n",
    "    output = model(encoded_text['input_ids'], attention_mask=encoded_text['attention_mask'])\n",
    "    sentiment = tf.argmax(output.logits, axis=1).numpy()[0]\n",
    "    if sentiment == 0:\n",
    "        return \"Negative\"\n",
    "    else:\n",
    "        return \"Positive\"\n",
    "\n",
    "# Example usage\n",
    "text = \"I love this product, it's amazing!\"\n",
    "sentiment = predict_sentiment(text)\n",
    "print(f\"The sentiment of '{text}' is {sentiment}\")"
   ]
  },
  {
   "cell_type": "code",
   "execution_count": 230,
   "id": "3ae61e24",
   "metadata": {},
   "outputs": [],
   "source": [
    "predictions_df = pd.DataFrame(columns=[\"prediction\"])"
   ]
  },
  {
   "cell_type": "code",
   "execution_count": 233,
   "id": "7c2ff411",
   "metadata": {},
   "outputs": [],
   "source": [
    "# Define a function to predict the sentiment of text\n",
    "def predict_sentiment_numeric(text):\n",
    "    encoded_text = preprocess(text)\n",
    "    output = model(encoded_text['input_ids'], attention_mask=encoded_text['attention_mask'])\n",
    "    sentiment = tf.argmax(output.logits, axis=1).numpy()[0]\n",
    "    if sentiment == 0:\n",
    "        return 0\n",
    "    else:\n",
    "        return 1"
   ]
  },
  {
   "cell_type": "code",
   "execution_count": 235,
   "id": "6d776f78",
   "metadata": {},
   "outputs": [],
   "source": [
    "for index, row in df_test.iterrows():\n",
    "    prediction = predict_sentiment_numeric(row['text'])\n",
    "    # Store the prediction in the new data frame\n",
    "    predictions_df.loc[index] = [prediction]\n"
   ]
  },
  {
   "cell_type": "code",
   "execution_count": 236,
   "id": "3869785e",
   "metadata": {},
   "outputs": [
    {
     "name": "stdout",
     "output_type": "stream",
     "text": [
      "0.5247148288973384\n"
     ]
    }
   ],
   "source": [
    "print(accuracy_score(df_test[\"sentiment\"], predictions_df[\"prediction\"]))"
   ]
  },
  {
   "cell_type": "markdown",
   "id": "1e89fe68",
   "metadata": {},
   "source": [
    "The low accurecy is because it has only learned the general rules of language, these pretrained models are not trained to solve any specific task, we need to fine tune on down stream task."
   ]
  },
  {
   "cell_type": "code",
   "execution_count": 244,
   "id": "193262ca",
   "metadata": {},
   "outputs": [],
   "source": [
    "#! pip install pandas\n",
    "#! pip install nltk\n",
    "#! pip install scikit-learn\n",
    "#! pip install tweet-preprocessor\n",
    "#! pip install transformers\n",
    "#! pip install evaluate\n",
    "#! pip install tensorflow"
   ]
  },
  {
   "cell_type": "markdown",
   "id": "d6f72084",
   "metadata": {},
   "source": [
    "### BERT\n",
    "BERT, which stands for Bi-directional Encoder Representation from Transformers, derives its bi-directionality from being an auto-encoding language model. This allows BERT to comprehensively comprehend the sequence's intent, goal, and meaning by incorporating all sequence aspects. The \"E\" in BERT's name refers to its use of only the encoder stack from the transformer architecture. BERT is pre-trained on two tasks.\n",
    "\n",
    "1. Masked Language Model.\n",
    "2. Next Sentence Prediction."
   ]
  },
  {
   "cell_type": "code",
   "execution_count": 250,
   "id": "7a281b8f",
   "metadata": {},
   "outputs": [],
   "source": [
    "import pandas as pd\n",
    "\n",
    "base_path = \"/Users/avia/personal/nlp_tutorials/code/top-down-nlp/Chapter1/\"\n",
    "train_df = pd.read_csv(base_path+'train.csv')\n",
    "test_df = pd.read_csv(base_path+'test.csv')\n",
    "\n",
    "train_df.rename(columns={'sentiment': 'label'}, inplace=True)\n",
    "test_df.rename(columns={'sentiment': 'label'}, inplace=True)\n",
    "\n",
    "train_df['label'].replace(['negative', 'positive'],[0, 1], inplace=True)\n",
    "test_df['label'].replace(['negative', 'positive'],[0, 1], inplace=True)"
   ]
  },
  {
   "cell_type": "code",
   "execution_count": null,
   "id": "5b6fef09",
   "metadata": {},
   "outputs": [],
   "source": [
    "from transformers import AutoTokenizer, TFAutoModelForSequenceClassification\n",
    "import tensorflow as tf\n",
    "from datasets import load_dataset\n",
    "from datasets import Dataset\n",
    "\n",
    "# Load the tokenizer and model\n",
    "tokenizer = AutoTokenizer.from_pretrained(\"bert-base-uncased\")\n",
    "model = TFAutoModelForSequenceClassification.from_pretrained(\"bert-base-uncased\", num_labels=2)\n",
    "\n",
    "train_datasets = Dataset.from_pandas(train_df)\n",
    "test_datasets = Dataset.from_pandas(test_df)\n",
    "\n",
    "def preprocess(text):\n",
    "    encoded_text = tokenizer(text['text'], padding=True, truncation=True, return_tensors='tf')\n",
    "    return encoded_text\n",
    "\n",
    "tokenized_train_datasets = train_datasets.map(preprocess, batched=True)\n",
    "tokenized_test_datasets = test_datasets.map(preprocess, batched=True)\n",
    "\n",
    "tf_train_dataset = tokenized_train_datasets.remove_columns([\"text\"]).with_format(\"tensorflow\")\n",
    "tf_eval_dataset = tokenized_test_datasets.remove_columns([\"text\"]).with_format(\"tensorflow\")\n",
    "\n",
    "train_features = {x: tf_train_dataset[x].to_tensor() for x in tokenizer.model_input_names}\n",
    "train_tf_dataset = tf.data.Dataset.from_tensor_slices((train_features, tf_train_dataset[\"label\"]))\n",
    "train_tf_dataset = train_tf_dataset.shuffle(len(tf_train_dataset)).batch(8)\n",
    "\n",
    "eval_features = {x: tf_eval_dataset[x].to_tensor() for x in tokenizer.model_input_names}\n",
    "eval_tf_dataset = tf.data.Dataset.from_tensor_slices((eval_features, tf_eval_dataset[\"label\"]))\n",
    "eval_tf_dataset = eval_tf_dataset.batch(8)"
   ]
  },
  {
   "cell_type": "code",
   "execution_count": null,
   "id": "e5198b4d",
   "metadata": {},
   "outputs": [],
   "source": [
    "model.compile(\n",
    "    optimizer=tf.keras.optimizers.Adam(learning_rate=5e-5),\n",
    "    loss=tf.keras.losses.SparseCategoricalCrossentropy(from_logits=True),\n",
    "    metrics=tf.metrics.SparseCategoricalAccuracy(),\n",
    ")\n",
    "\n",
    "model.fit(train_tf_dataset, validation_data=eval_tf_dataset, epochs=3)"
   ]
  },
  {
   "cell_type": "code",
   "execution_count": null,
   "id": "41732787",
   "metadata": {},
   "outputs": [],
   "source": [
    "model.summary()"
   ]
  },
  {
   "cell_type": "code",
   "execution_count": null,
   "id": "df993322",
   "metadata": {},
   "outputs": [],
   "source": [
    "import evaluate\n",
    "import numpy as np\n",
    "\n",
    "preds = model.predict(eval_tf_dataset)[\"logits\"]\n",
    "\n",
    "class_preds = np.argmax(preds, axis=1)\n",
    "print(preds.shape, class_preds.shape)\n",
    "\n",
    "metric = evaluate.load(\"accuracy\")\n",
    "metric.compute(predictions=class_preds, references=tf_eval_dataset[\"label\"])"
   ]
  },
  {
   "cell_type": "markdown",
   "id": "6bd4de0b",
   "metadata": {},
   "source": [
    "### GPT\n",
    "\n",
    "The name GPT stands for Generative Pre-trained Transformers. GPT is classified as an auto-regressive language model, meaning it predicts tokens using only one side of the context, the past context. The \"generative\" aspect of its name is derived from this ability. GPT is constructed using the decoder stack of the Transformer architecture.\n",
    "\n",
    "It also gave raise to below paradime of fine tuning training and prompt base training\n",
    "\n",
    "1. Few-Shot learning : the model is provided with a task discription and few examples that fit the context window\n",
    "2. One-Shot Learning : the model is provided with a task discription and 1 example of the task\n",
    "3. Zero-Shot Learning : the model is provided with a task discription , thats it.\n",
    "\n",
    "Few-shot learning, one-shot learning, and zero-shot learning all stem from the fact that GPT is pre-trained on a large web text corpus and has encountered natural instances of people performing natural language processing tasks. When we refer to few-shot, zero-shot, or one-shot learning, we are asking the model to perform a task it may not have encountered before, given a prompt or context. Few-shot learning involves providing the model with a task description and as many examples as possible, up to the model's maximum input length of 1,024 tokens for GPT-2. Zero or one-shot learning is a subset of few-shot learning where either zero or one example is provided. In zero-shot learning, the model is given a task description but no examples. The prompt is used to instruct the model on what to do. One-shot learning entails providing the model with a task description and only one example of the task."
   ]
  },
  {
   "cell_type": "markdown",
   "id": "b8f2c951",
   "metadata": {},
   "source": [
    "We will look at prompt based pretraining of GPT on sentiment analysis"
   ]
  },
  {
   "cell_type": "code",
   "execution_count": 253,
   "id": "78686f01",
   "metadata": {},
   "outputs": [],
   "source": [
    "#!pip3 install torch torchvision torchaudio"
   ]
  },
  {
   "cell_type": "code",
   "execution_count": null,
   "id": "8fe97140",
   "metadata": {},
   "outputs": [],
   "source": [
    "from transformers import Trainer, TrainingArguments, DataCollatorForLanguageModeling, GPT2LMHeadModel, pipeline, \\\n",
    "                         GPT2Tokenizer\n",
    "import pandas as pd\n",
    "from datasets import Dataset"
   ]
  },
  {
   "cell_type": "code",
   "execution_count": null,
   "id": "c11b0b81",
   "metadata": {},
   "outputs": [],
   "source": [
    "import pandas as pd\n",
    "\n",
    "base_path = \"/Users/avia/personal/nlp_tutorials/code/top-down-nlp/Chapter1/\"\n",
    "train_df = pd.read_csv(base_path+'train.csv')\n",
    "test_df = pd.read_csv(base_path+'test.csv')"
   ]
  },
  {
   "cell_type": "code",
   "execution_count": null,
   "id": "71fa395d",
   "metadata": {},
   "outputs": [],
   "source": [
    "test_df.head()"
   ]
  },
  {
   "cell_type": "code",
   "execution_count": null,
   "id": "ff1ddfea",
   "metadata": {},
   "outputs": [],
   "source": [
    "MODEL = 'distilgpt2'\n",
    "tokenizer = GPT2Tokenizer.from_pretrained(MODEL)\n",
    "tokenizer.pad_token = tokenizer.eos_token"
   ]
  },
  {
   "cell_type": "code",
   "execution_count": null,
   "id": "4c10a061",
   "metadata": {},
   "outputs": [],
   "source": [
    "#add two prompts, one for each task\n",
    "SENTIMENT_PROMPT = 'Sentiment Task'\n",
    "SENTIMENT_TOKEN = '\\nSentiment:'"
   ]
  },
  {
   "cell_type": "code",
   "execution_count": null,
   "id": "2acfc836",
   "metadata": {},
   "outputs": [],
   "source": [
    "train_df['sentiment_text'] = f'{SENTIMENT_PROMPT}\\nReview: ' + train_df['text'] + SENTIMENT_TOKEN + \n",
    "' ' + train_df['sentiment'].astype(str)"
   ]
  },
  {
   "cell_type": "code",
   "execution_count": null,
   "id": "0ef2e8bb",
   "metadata": {},
   "outputs": [],
   "source": [
    "# Check format sample\n",
    "print(train_df['sentiment_text'].head(1).tolist()[0])"
   ]
  },
  {
   "cell_type": "code",
   "execution_count": null,
   "id": "17574334",
   "metadata": {},
   "outputs": [],
   "source": [
    "training_examples = train_df['sentiment_text'].tolist()\n",
    "print(len(training_examples))\n",
    "sentiment_task_df = pd.DataFrame({'text': training_examples})"
   ]
  },
  {
   "cell_type": "code",
   "execution_count": null,
   "id": "66561f54",
   "metadata": {},
   "outputs": [],
   "source": [
    "data = Dataset.from_pandas(sentiment_task_df)"
   ]
  },
  {
   "cell_type": "code",
   "execution_count": null,
   "id": "9101c2ae",
   "metadata": {},
   "outputs": [],
   "source": [
    "def preprocess(examples):\n",
    "    return tokenizer(examples['text'], truncation=True)\n",
    "\n",
    "data = data.map(preprocess, batched=True)\n",
    "data = data.train_test_split(train_size=.8)"
   ]
  },
  {
   "cell_type": "code",
   "execution_count": null,
   "id": "4603761c",
   "metadata": {},
   "outputs": [],
   "source": [
    "model = GPT2LMHeadModel.from_pretrained(MODEL)"
   ]
  },
  {
   "cell_type": "code",
   "execution_count": null,
   "id": "d37dc3ad",
   "metadata": {},
   "outputs": [],
   "source": [
    "# Lets first check what the pretrined GPT will output\n",
    "sentiment_text_sample = f'{SENTIMENT_PROMPT}\\nReview: {text_sample}{SENTIMENT_TOKEN}'\n",
    "generator = pipeline('text-generation', model=GPT2LMHeadModel.from_pretrained('gpt2'), tokenizer=tokenizer)\n",
    "for generated_text in generator(sentiment_text_sample, num_return_sequences=1, max_length=num_tokens + 1):\n",
    "    print(generated_text['generated_text'])\n",
    "    print('-------')"
   ]
  },
  {
   "cell_type": "code",
   "execution_count": null,
   "id": "cb4e9583",
   "metadata": {},
   "outputs": [],
   "source": [
    "data_collator = DataCollatorForLanguageModeling(tokenizer=tokenizer, mlm=False)"
   ]
  },
  {
   "cell_type": "code",
   "execution_count": null,
   "id": "3a29de12",
   "metadata": {},
   "outputs": [],
   "source": [
    "training_args = TrainingArguments(\n",
    "    output_dir=\"./gpt2_sentiment\", #The output directory\n",
    "    overwrite_output_dir=True, #overwrite the content of the output directory\n",
    "    num_train_epochs=2, # number of training epochs\n",
    "    per_device_train_batch_size=32, # batch size for training\n",
    "    per_device_eval_batch_size=32,  # batch size for evaluation\n",
    "    logging_steps=50,\n",
    "    load_best_model_at_end=True,\n",
    "    evaluation_strategy='epoch',\n",
    "    save_strategy='epoch'\n",
    ")\n",
    "\n",
    "trainer = Trainer(\n",
    "    model=model,\n",
    "    args=training_args,\n",
    "    train_dataset=data['train'],\n",
    "    eval_dataset=data['test'],\n",
    "    data_collator=data_collator\n",
    ")\n",
    "\n",
    "trainer.evaluate()"
   ]
  },
  {
   "cell_type": "code",
   "execution_count": null,
   "id": "bf9ddb29",
   "metadata": {},
   "outputs": [],
   "source": [
    "trainer.train()"
   ]
  },
  {
   "cell_type": "code",
   "execution_count": null,
   "id": "58099a9c",
   "metadata": {},
   "outputs": [],
   "source": [
    "trainer.evaluate()"
   ]
  },
  {
   "cell_type": "code",
   "execution_count": null,
   "id": "995cfad8",
   "metadata": {},
   "outputs": [],
   "source": [
    "trainer.save_model()"
   ]
  },
  {
   "cell_type": "code",
   "execution_count": null,
   "id": "9e632991",
   "metadata": {},
   "outputs": [],
   "source": [
    "loaded_model = GPT2LMHeadModel.from_pretrained('./gpt2_sentiment')\n",
    "generator = pipeline('text-generation', model=loaded_model, tokenizer=tokenizer)"
   ]
  },
  {
   "cell_type": "code",
   "execution_count": null,
   "id": "ca7736d7",
   "metadata": {},
   "outputs": [],
   "source": [
    "text_sample, score =  train_df.sample(1)[['text', 'sentiment']].values[0]"
   ]
  },
  {
   "cell_type": "code",
   "execution_count": null,
   "id": "527f6cd3",
   "metadata": {},
   "outputs": [],
   "source": [
    "print(text_sample)\n",
    "print(score) \n",
    "num_tokens = len(tokenizer(text_sample)['input_ids'])\n",
    "print(num_tokens)"
   ]
  },
  {
   "cell_type": "code",
   "execution_count": null,
   "id": "4b0ad88f",
   "metadata": {},
   "outputs": [],
   "source": [
    "sentiment_text_sample = f'{SENTIMENT_PROMPT}\\nReview: {text_sample}{SENTIMENT_TOKEN}'"
   ]
  },
  {
   "cell_type": "code",
   "execution_count": null,
   "id": "dba7c6db",
   "metadata": {},
   "outputs": [],
   "source": [
    "for generated_text in generator(sentiment_text_sample, num_return_sequences=1, max_length=num_tokens + 1):\n",
    "    print(generated_text['generated_text'])"
   ]
  }
 ],
 "metadata": {
  "kernelspec": {
   "display_name": "Python 3 (ipykernel)",
   "language": "python",
   "name": "python3"
  },
  "language_info": {
   "codemirror_mode": {
    "name": "ipython",
    "version": 3
   },
   "file_extension": ".py",
   "mimetype": "text/x-python",
   "name": "python",
   "nbconvert_exporter": "python",
   "pygments_lexer": "ipython3",
   "version": "3.10.0"
  }
 },
 "nbformat": 4,
 "nbformat_minor": 5
}
